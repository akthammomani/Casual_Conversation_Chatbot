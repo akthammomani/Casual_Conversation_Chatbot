{
 "cells": [
  {
   "cell_type": "code",
   "execution_count": 14,
   "id": "b55288bc-310d-4fe2-b5fe-1b6fe852b8f0",
   "metadata": {},
   "outputs": [],
   "source": [
    "#Let's import the necessary packages:\n",
    "import json\n",
    "import re\n",
    "import pandas as pd\n",
    "from textblob import TextBlob\n",
    "import spacy\n",
    "import matplotlib.pyplot as plt\n",
    "import numpy as np\n",
    "from tqdm import tqdm\n",
    "tqdm.pandas() \n",
    "import random\n",
    "from transformers import GPT2Tokenizer\n",
    "from transformers import AdamW, Trainer, TrainingArguments\n",
    "import torch\n",
    "from torch.utils.data import DataLoader\n",
    "from transformers import GPT2LMHeadModel, TrainingArguments, Trainer, AdamW\n",
    "from peft import get_peft_model, LoraConfig, TaskType\n",
    "import peft\n",
    "from sklearn.model_selection import train_test_split\n",
    "import wandb\n",
    "from rouge_score import rouge_scorer\n",
    "import evaluate\n",
    "\n",
    "pd.set_option('display.max_rows', None)\n",
    "pd.set_option('display.max_colwidth', 4000) # 100 means 100 characters in the col"
   ]
  },
  {
   "cell_type": "code",
   "execution_count": 2,
   "id": "ea85c04d-1ed1-4f21-b468-dcadde65c158",
   "metadata": {},
   "outputs": [],
   "source": [
    "df = pd.read_csv(\"sampled_conversational_data.csv\")"
   ]
  },
  {
   "cell_type": "code",
   "execution_count": 3,
   "id": "cce5424a-6de8-4342-9190-47a6c7266577",
   "metadata": {},
   "outputs": [
    {
     "data": {
      "text/html": [
       "<div>\n",
       "<style scoped>\n",
       "    .dataframe tbody tr th:only-of-type {\n",
       "        vertical-align: middle;\n",
       "    }\n",
       "\n",
       "    .dataframe tbody tr th {\n",
       "        vertical-align: top;\n",
       "    }\n",
       "\n",
       "    .dataframe thead th {\n",
       "        text-align: right;\n",
       "    }\n",
       "</style>\n",
       "<table border=\"1\" class=\"dataframe\">\n",
       "  <thead>\n",
       "    <tr style=\"text-align: right;\">\n",
       "      <th></th>\n",
       "      <th>Conversation ID</th>\n",
       "      <th>Turn ID</th>\n",
       "      <th>Text</th>\n",
       "      <th>cleaned_text</th>\n",
       "    </tr>\n",
       "  </thead>\n",
       "  <tbody>\n",
       "    <tr>\n",
       "      <th>0</th>\n",
       "      <td>169</td>\n",
       "      <td>1</td>\n",
       "      <td>My insurance does not cover PMS</td>\n",
       "      <td>my insurance does not cover PMS</td>\n",
       "    </tr>\n",
       "    <tr>\n",
       "      <th>1</th>\n",
       "      <td>169</td>\n",
       "      <td>2</td>\n",
       "      <td>Then tell them I had a seizure.</td>\n",
       "      <td>then tell them i had a seizure</td>\n",
       "    </tr>\n",
       "    <tr>\n",
       "      <th>2</th>\n",
       "      <td>169</td>\n",
       "      <td>3</td>\n",
       "      <td>Is this about Sarah Lawrence? You punishing me?</td>\n",
       "      <td>is this about Sarah Lawrence you punishing me</td>\n",
       "    </tr>\n",
       "    <tr>\n",
       "      <th>3</th>\n",
       "      <td>169</td>\n",
       "      <td>4</td>\n",
       "      <td>I thought you were punishing me.</td>\n",
       "      <td>i thought you were punishing me</td>\n",
       "    </tr>\n",
       "    <tr>\n",
       "      <th>4</th>\n",
       "      <td>169</td>\n",
       "      <td>5</td>\n",
       "      <td>Why can't we agree on this?</td>\n",
       "      <td>why can not we agree on this</td>\n",
       "    </tr>\n",
       "  </tbody>\n",
       "</table>\n",
       "</div>"
      ],
      "text/plain": [
       "   Conversation ID  Turn ID                                             Text  \\\n",
       "0              169        1                  My insurance does not cover PMS   \n",
       "1              169        2                  Then tell them I had a seizure.   \n",
       "2              169        3  Is this about Sarah Lawrence? You punishing me?   \n",
       "3              169        4                 I thought you were punishing me.   \n",
       "4              169        5                      Why can't we agree on this?   \n",
       "\n",
       "                                    cleaned_text  \n",
       "0                my insurance does not cover PMS  \n",
       "1                 then tell them i had a seizure  \n",
       "2  is this about Sarah Lawrence you punishing me  \n",
       "3                i thought you were punishing me  \n",
       "4                   why can not we agree on this  "
      ]
     },
     "execution_count": 3,
     "metadata": {},
     "output_type": "execute_result"
    }
   ],
   "source": [
    "df.head()"
   ]
  },
  {
   "cell_type": "code",
   "execution_count": 4,
   "id": "8f22b0ac-8e72-4c8f-8b2c-0f425b85721c",
   "metadata": {},
   "outputs": [
    {
     "data": {
      "text/plain": [
       "(7126, 4)"
      ]
     },
     "execution_count": 4,
     "metadata": {},
     "output_type": "execute_result"
    }
   ],
   "source": [
    "df.shape"
   ]
  },
  {
   "cell_type": "code",
   "execution_count": 5,
   "id": "476ac1de-3e2e-4ea3-b70f-ad8362bc907e",
   "metadata": {},
   "outputs": [
    {
     "name": "stdout",
     "output_type": "stream",
     "text": [
      "<class 'pandas.core.frame.DataFrame'>\n",
      "RangeIndex: 7126 entries, 0 to 7125\n",
      "Data columns (total 4 columns):\n",
      " #   Column           Non-Null Count  Dtype \n",
      "---  ------           --------------  ----- \n",
      " 0   Conversation ID  7126 non-null   int64 \n",
      " 1   Turn ID          7126 non-null   int64 \n",
      " 2   Text             7126 non-null   object\n",
      " 3   cleaned_text     7126 non-null   object\n",
      "dtypes: int64(2), object(2)\n",
      "memory usage: 222.8+ KB\n"
     ]
    }
   ],
   "source": [
    "df.info()"
   ]
  },
  {
   "cell_type": "code",
   "execution_count": 6,
   "id": "f4ea7cb6-2b3b-4dc0-a39c-4f9280784c39",
   "metadata": {},
   "outputs": [
    {
     "data": {
      "text/plain": [
       "714"
      ]
     },
     "execution_count": 6,
     "metadata": {},
     "output_type": "execute_result"
    }
   ],
   "source": [
    "# Show the unique count of 'Conversation ID':\n",
    "df['Conversation ID'].nunique()\n",
    "\n",
    "\n"
   ]
  },
  {
   "cell_type": "code",
   "execution_count": 7,
   "id": "e0bae21a-798f-40d4-8e3a-7cff55dbedb5",
   "metadata": {},
   "outputs": [
    {
     "name": "stderr",
     "output_type": "stream",
     "text": [
      "C:\\Users\\aktha\\anaconda3\\envs\\tf_env\\lib\\site-packages\\transformers\\tokenization_utils_base.py:1617: FutureWarning: `clean_up_tokenization_spaces` was not set. It will be set to `True` by default. This behavior will be deprecated in transformers v4.45, and will be then set to `False` by default. For more details check this issue: https://github.com/huggingface/transformers/issues/31884\n",
      "  warnings.warn(\n"
     ]
    },
    {
     "name": "stdout",
     "output_type": "stream",
     "text": [
      "Token Length Statistics:\n",
      "count    714.000000\n",
      "mean     118.418768\n",
      "std       49.130872\n",
      "min       11.000000\n",
      "25%       83.250000\n",
      "50%      110.000000\n",
      "75%      147.750000\n",
      "max      341.000000\n",
      "Name: token_length, dtype: float64\n"
     ]
    },
    {
     "data": {
      "image/png": "[encoded data removed]",
      "text/plain": [
       "<Figure size 1000x600 with 1 Axes>"
      ]
     },
     "metadata": {},
     "output_type": "display_data"
    },
    {
     "name": "stdout",
     "output_type": "stream",
     "text": [
      "Token Length Percentiles:\n",
      "0.50    110.00\n",
      "0.75    147.75\n",
      "0.90    182.00\n",
      "0.95    213.35\n",
      "Name: token_length, dtype: float64\n"
     ]
    }
   ],
   "source": [
    "\n",
    "# Load the GPT-2 tokenizer:\n",
    "tokenizer = GPT2Tokenizer.from_pretrained('gpt2')\n",
    "\n",
    "# Concatenate all conversation turns into a single string per conversation for token length analysis:\n",
    "all_conversations_text = df.groupby('Conversation ID')['cleaned_text'].apply(lambda x: \" \".join(x)).tolist()\n",
    "\n",
    "# Calculate the number of tokens for each conversation:\n",
    "conversation_token_lengths = [len(tokenizer.tokenize(convo)) for convo in all_conversations_text]\n",
    "\n",
    "# Create a DataFrame for analysis:\n",
    "df_lengths = pd.DataFrame({'conversation': all_conversations_text, 'token_length': conversation_token_lengths})\n",
    "\n",
    "# Display basic statistics about token lengths:\n",
    "print(\"Token Length Statistics:\")\n",
    "print(df_lengths['token_length'].describe())\n",
    "\n",
    "# Plot the distribution of token lengths:\n",
    "plt.figure(figsize=(10, 6))\n",
    "plt.hist(df_lengths['token_length'], bins=50, color='c', edgecolor='k', alpha=0.7)\n",
    "plt.title('Distribution of Token Lengths in Sampled Conversations')\n",
    "plt.xlabel('Number of Tokens')\n",
    "plt.ylabel('Frequency')\n",
    "plt.axvline(x=128, color='r', linestyle='--', label='max_length = 128')\n",
    "plt.axvline(x=180, color='y', linestyle='--', label='max_length = 180')\n",
    "plt.axvline(x=235, color='g', linestyle='--', label='max_length = 235')\n",
    "plt.axvline(x=256, color='b', linestyle='--', label='max_length = 256')\n",
    "plt.legend()\n",
    "plt.show()\n",
    "\n",
    "# Calculate percentiles to understand token coverage:\n",
    "percentiles = df_lengths['token_length'].quantile([0.5, 0.75, 0.9, 0.95])\n",
    "print(\"Token Length Percentiles:\")\n",
    "print(percentiles)\n"
   ]
  },
  {
   "cell_type": "markdown",
   "id": "134e0d68-6b80-44db-abaa-e2d77f0cae3a",
   "metadata": {},
   "source": [
    "**Summary Highlights:**\n",
    "* **Median Token Length (50th Percentile):** `110 tokens` This means that half of the conversations have fewer than `110` tokens.\n",
    "* **75th Percentile Token Length:** `147.75 tokens` `75%` of the conversations have fewer than `148` tokens.\n",
    "* **90th Percentile Token Length:** `182 tokens` `90%` of the conversations have fewer than `182` tokens, which suggests that a max length of around `180` would cover most of the data.\n",
    "* **95th Percentile Token Length:** `213.35 tokens` `95%` of conversations have fewer than `214` tokens, indicating that only a small portion of conversations would exceed this length.\n",
    "\n",
    "**Visual Insight:**\n",
    "\n",
    "* **Max Length of 128 Tokens:** This length covers a bit more than `50%` of the conversations.\n",
    "* **Max Length of 180 Tokens:** This covers approximately `90%` of the conversations, making it a strong candidate for efficient training.\n",
    "* **Max Length of 235 Tokens:** Covers almost all conversations but might result in higher memory usage.\n",
    "\n",
    "**Recommendation:**\n",
    "Based on the analysis, a max token length of `180` strikes a good balance between covering a majority of the conversations `(90%)` and keeping the input manageable for GPT-2 fine-tuning, making it a practical choice for training on limited resources."
   ]
  },
  {
   "cell_type": "code",
   "execution_count": 8,
   "id": "4888c1d7-41ee-49ec-a16d-46375b38a6ea",
   "metadata": {},
   "outputs": [
    {
     "name": "stderr",
     "output_type": "stream",
     "text": [
      "C:\\Users\\aktha\\anaconda3\\envs\\tf_env\\lib\\site-packages\\transformers\\tokenization_utils_base.py:1617: FutureWarning: `clean_up_tokenization_spaces` was not set. It will be set to `True` by default. This behavior will be deprecated in transformers v4.45, and will be then set to `False` by default. For more details check this issue: https://github.com/huggingface/transformers/issues/31884\n",
      "  warnings.warn(\n"
     ]
    },
    {
     "data": {
      "text/html": [
       "<div>\n",
       "<style scoped>\n",
       "    .dataframe tbody tr th:only-of-type {\n",
       "        vertical-align: middle;\n",
       "    }\n",
       "\n",
       "    .dataframe tbody tr th {\n",
       "        vertical-align: top;\n",
       "    }\n",
       "\n",
       "    .dataframe thead th {\n",
       "        text-align: right;\n",
       "    }\n",
       "</style>\n",
       "<table border=\"1\" class=\"dataframe\">\n",
       "  <thead>\n",
       "    <tr style=\"text-align: right;\">\n",
       "      <th></th>\n",
       "      <th>cleaned_text</th>\n",
       "      <th>input_ids</th>\n",
       "    </tr>\n",
       "  </thead>\n",
       "  <tbody>\n",
       "    <tr>\n",
       "      <th>0</th>\n",
       "      <td>my insurance does not cover PMS</td>\n",
       "      <td>[1820, 5096, 857, 407, 3002, 3122, 50, 50256, 50256, 50256, 50256, 50256, 50256, 50256, 50256, 50256, 50256, 50256, 50256, 50256, 50256, 50256, 50256, 50256, 50256, 50256, 50256, 50256, 50256, 50256, 50256, 50256, 50256, 50256, 50256, 50256, 50256, 50256, 50256, 50256, 50256, 50256, 50256, 50256, 50256, 50256, 50256, 50256, 50256, 50256, 50256, 50256, 50256, 50256, 50256, 50256, 50256, 50256, 50256, 50256, 50256, 50256, 50256, 50256, 50256, 50256, 50256, 50256, 50256, 50256, 50256, 50256, 50256, 50256, 50256, 50256, 50256, 50256, 50256, 50256, 50256, 50256, 50256, 50256, 50256, 50256, 50256, 50256, 50256, 50256, 50256, 50256, 50256, 50256, 50256, 50256, 50256, 50256, 50256, 50256, ...]</td>\n",
       "    </tr>\n",
       "    <tr>\n",
       "      <th>1</th>\n",
       "      <td>then tell them i had a seizure</td>\n",
       "      <td>[8524, 1560, 606, 1312, 550, 257, 22338, 50256, 50256, 50256, 50256, 50256, 50256, 50256, 50256, 50256, 50256, 50256, 50256, 50256, 50256, 50256, 50256, 50256, 50256, 50256, 50256, 50256, 50256, 50256, 50256, 50256, 50256, 50256, 50256, 50256, 50256, 50256, 50256, 50256, 50256, 50256, 50256, 50256, 50256, 50256, 50256, 50256, 50256, 50256, 50256, 50256, 50256, 50256, 50256, 50256, 50256, 50256, 50256, 50256, 50256, 50256, 50256, 50256, 50256, 50256, 50256, 50256, 50256, 50256, 50256, 50256, 50256, 50256, 50256, 50256, 50256, 50256, 50256, 50256, 50256, 50256, 50256, 50256, 50256, 50256, 50256, 50256, 50256, 50256, 50256, 50256, 50256, 50256, 50256, 50256, 50256, 50256, 50256, 50256, ...]</td>\n",
       "    </tr>\n",
       "    <tr>\n",
       "      <th>2</th>\n",
       "      <td>is this about Sarah Lawrence you punishing me</td>\n",
       "      <td>[271, 428, 546, 10490, 13914, 345, 28641, 502, 50256, 50256, 50256, 50256, 50256, 50256, 50256, 50256, 50256, 50256, 50256, 50256, 50256, 50256, 50256, 50256, 50256, 50256, 50256, 50256, 50256, 50256, 50256, 50256, 50256, 50256, 50256, 50256, 50256, 50256, 50256, 50256, 50256, 50256, 50256, 50256, 50256, 50256, 50256, 50256, 50256, 50256, 50256, 50256, 50256, 50256, 50256, 50256, 50256, 50256, 50256, 50256, 50256, 50256, 50256, 50256, 50256, 50256, 50256, 50256, 50256, 50256, 50256, 50256, 50256, 50256, 50256, 50256, 50256, 50256, 50256, 50256, 50256, 50256, 50256, 50256, 50256, 50256, 50256, 50256, 50256, 50256, 50256, 50256, 50256, 50256, 50256, 50256, 50256, 50256, 50256, 50256, ...]</td>\n",
       "    </tr>\n",
       "    <tr>\n",
       "      <th>3</th>\n",
       "      <td>i thought you were punishing me</td>\n",
       "      <td>[72, 1807, 345, 547, 28641, 502, 50256, 50256, 50256, 50256, 50256, 50256, 50256, 50256, 50256, 50256, 50256, 50256, 50256, 50256, 50256, 50256, 50256, 50256, 50256, 50256, 50256, 50256, 50256, 50256, 50256, 50256, 50256, 50256, 50256, 50256, 50256, 50256, 50256, 50256, 50256, 50256, 50256, 50256, 50256, 50256, 50256, 50256, 50256, 50256, 50256, 50256, 50256, 50256, 50256, 50256, 50256, 50256, 50256, 50256, 50256, 50256, 50256, 50256, 50256, 50256, 50256, 50256, 50256, 50256, 50256, 50256, 50256, 50256, 50256, 50256, 50256, 50256, 50256, 50256, 50256, 50256, 50256, 50256, 50256, 50256, 50256, 50256, 50256, 50256, 50256, 50256, 50256, 50256, 50256, 50256, 50256, 50256, 50256, 50256, ...]</td>\n",
       "    </tr>\n",
       "    <tr>\n",
       "      <th>4</th>\n",
       "      <td>why can not we agree on this</td>\n",
       "      <td>[22850, 460, 407, 356, 4236, 319, 428, 50256, 50256, 50256, 50256, 50256, 50256, 50256, 50256, 50256, 50256, 50256, 50256, 50256, 50256, 50256, 50256, 50256, 50256, 50256, 50256, 50256, 50256, 50256, 50256, 50256, 50256, 50256, 50256, 50256, 50256, 50256, 50256, 50256, 50256, 50256, 50256, 50256, 50256, 50256, 50256, 50256, 50256, 50256, 50256, 50256, 50256, 50256, 50256, 50256, 50256, 50256, 50256, 50256, 50256, 50256, 50256, 50256, 50256, 50256, 50256, 50256, 50256, 50256, 50256, 50256, 50256, 50256, 50256, 50256, 50256, 50256, 50256, 50256, 50256, 50256, 50256, 50256, 50256, 50256, 50256, 50256, 50256, 50256, 50256, 50256, 50256, 50256, 50256, 50256, 50256, 50256, 50256, 50256, ...]</td>\n",
       "    </tr>\n",
       "  </tbody>\n",
       "</table>\n",
       "</div>"
      ],
      "text/plain": [
       "                                    cleaned_text  \\\n",
       "0                my insurance does not cover PMS   \n",
       "1                 then tell them i had a seizure   \n",
       "2  is this about Sarah Lawrence you punishing me   \n",
       "3                i thought you were punishing me   \n",
       "4                   why can not we agree on this   \n",
       "\n",
       "                                                                                                                                                                                                                                                                                                                                                                                                                                                                                                                                                                                                                                                                                                                  input_ids  \n",
       "0    [1820, 5096, 857, 407, 3002, 3122, 50, 50256, 50256, 50256, 50256, 50256, 50256, 50256, 50256, 50256, 50256, 50256, 50256, 50256, 50256, 50256, 50256, 50256, 50256, 50256, 50256, 50256, 50256, 50256, 50256, 50256, 50256, 50256, 50256, 50256, 50256, 50256, 50256, 50256, 50256, 50256, 50256, 50256, 50256, 50256, 50256, 50256, 50256, 50256, 50256, 50256, 50256, 50256, 50256, 50256, 50256, 50256, 50256, 50256, 50256, 50256, 50256, 50256, 50256, 50256, 50256, 50256, 50256, 50256, 50256, 50256, 50256, 50256, 50256, 50256, 50256, 50256, 50256, 50256, 50256, 50256, 50256, 50256, 50256, 50256, 50256, 50256, 50256, 50256, 50256, 50256, 50256, 50256, 50256, 50256, 50256, 50256, 50256, 50256, ...]  \n",
       "1  [8524, 1560, 606, 1312, 550, 257, 22338, 50256, 50256, 50256, 50256, 50256, 50256, 50256, 50256, 50256, 50256, 50256, 50256, 50256, 50256, 50256, 50256, 50256, 50256, 50256, 50256, 50256, 50256, 50256, 50256, 50256, 50256, 50256, 50256, 50256, 50256, 50256, 50256, 50256, 50256, 50256, 50256, 50256, 50256, 50256, 50256, 50256, 50256, 50256, 50256, 50256, 50256, 50256, 50256, 50256, 50256, 50256, 50256, 50256, 50256, 50256, 50256, 50256, 50256, 50256, 50256, 50256, 50256, 50256, 50256, 50256, 50256, 50256, 50256, 50256, 50256, 50256, 50256, 50256, 50256, 50256, 50256, 50256, 50256, 50256, 50256, 50256, 50256, 50256, 50256, 50256, 50256, 50256, 50256, 50256, 50256, 50256, 50256, 50256, ...]  \n",
       "2   [271, 428, 546, 10490, 13914, 345, 28641, 502, 50256, 50256, 50256, 50256, 50256, 50256, 50256, 50256, 50256, 50256, 50256, 50256, 50256, 50256, 50256, 50256, 50256, 50256, 50256, 50256, 50256, 50256, 50256, 50256, 50256, 50256, 50256, 50256, 50256, 50256, 50256, 50256, 50256, 50256, 50256, 50256, 50256, 50256, 50256, 50256, 50256, 50256, 50256, 50256, 50256, 50256, 50256, 50256, 50256, 50256, 50256, 50256, 50256, 50256, 50256, 50256, 50256, 50256, 50256, 50256, 50256, 50256, 50256, 50256, 50256, 50256, 50256, 50256, 50256, 50256, 50256, 50256, 50256, 50256, 50256, 50256, 50256, 50256, 50256, 50256, 50256, 50256, 50256, 50256, 50256, 50256, 50256, 50256, 50256, 50256, 50256, 50256, ...]  \n",
       "3   [72, 1807, 345, 547, 28641, 502, 50256, 50256, 50256, 50256, 50256, 50256, 50256, 50256, 50256, 50256, 50256, 50256, 50256, 50256, 50256, 50256, 50256, 50256, 50256, 50256, 50256, 50256, 50256, 50256, 50256, 50256, 50256, 50256, 50256, 50256, 50256, 50256, 50256, 50256, 50256, 50256, 50256, 50256, 50256, 50256, 50256, 50256, 50256, 50256, 50256, 50256, 50256, 50256, 50256, 50256, 50256, 50256, 50256, 50256, 50256, 50256, 50256, 50256, 50256, 50256, 50256, 50256, 50256, 50256, 50256, 50256, 50256, 50256, 50256, 50256, 50256, 50256, 50256, 50256, 50256, 50256, 50256, 50256, 50256, 50256, 50256, 50256, 50256, 50256, 50256, 50256, 50256, 50256, 50256, 50256, 50256, 50256, 50256, 50256, ...]  \n",
       "4    [22850, 460, 407, 356, 4236, 319, 428, 50256, 50256, 50256, 50256, 50256, 50256, 50256, 50256, 50256, 50256, 50256, 50256, 50256, 50256, 50256, 50256, 50256, 50256, 50256, 50256, 50256, 50256, 50256, 50256, 50256, 50256, 50256, 50256, 50256, 50256, 50256, 50256, 50256, 50256, 50256, 50256, 50256, 50256, 50256, 50256, 50256, 50256, 50256, 50256, 50256, 50256, 50256, 50256, 50256, 50256, 50256, 50256, 50256, 50256, 50256, 50256, 50256, 50256, 50256, 50256, 50256, 50256, 50256, 50256, 50256, 50256, 50256, 50256, 50256, 50256, 50256, 50256, 50256, 50256, 50256, 50256, 50256, 50256, 50256, 50256, 50256, 50256, 50256, 50256, 50256, 50256, 50256, 50256, 50256, 50256, 50256, 50256, 50256, ...]  "
      ]
     },
     "execution_count": 8,
     "metadata": {},
     "output_type": "execute_result"
    }
   ],
   "source": [
    "# Load the GPT-2 tokenizer:\n",
    "tokenizer = GPT2Tokenizer.from_pretrained('gpt2')\n",
    "\n",
    "# GPT-2 doesn't have a pad token, so we'll set the end of sequence (EOS) token as the padding token:\n",
    "tokenizer.pad_token = tokenizer.eos_token\n",
    "\n",
    "# Tokenize the `cleaned_text` column:\n",
    "df['input_ids'] = df['cleaned_text'].apply(\n",
    "    lambda x: tokenizer.encode(x, truncation=True, max_length=180, padding='max_length')\n",
    ")\n",
    "\n",
    "# Inspect the first few rows after tokenization:\n",
    "df[['cleaned_text', 'input_ids']].head()\n"
   ]
  },
  {
   "cell_type": "code",
   "execution_count": 9,
   "id": "a87e4ba5-25a1-464f-82a3-a4cc20574342",
   "metadata": {},
   "outputs": [
    {
     "name": "stdout",
     "output_type": "stream",
     "text": [
      "Training set size: 5700\n",
      "Validation set size: 713\n",
      "Test set size: 713\n"
     ]
    }
   ],
   "source": [
    "# Split the data into train (80%), validation (10%), and test (10%):\n",
    "train_df, temp_df = train_test_split(df, test_size=0.2, random_state=42)\n",
    "val_df, test_df = train_test_split(temp_df, test_size=0.5, random_state=42)\n",
    "\n",
    "# Check the sizes of the splits:\n",
    "print(f\"Training set size: {len(train_df)}\")\n",
    "print(f\"Validation set size: {len(val_df)}\")\n",
    "print(f\"Test set size: {len(test_df)}\")\n"
   ]
  },
  {
   "cell_type": "code",
   "execution_count": 10,
   "id": "943b4266-42f8-44d1-93ef-e72406415150",
   "metadata": {},
   "outputs": [
    {
     "name": "stdout",
     "output_type": "stream",
     "text": [
      "Total train pairs: 4986\n",
      "Total validation pairs: 267\n",
      "Total test pairs: 254\n"
     ]
    }
   ],
   "source": [
    "# Create input-output pairs based on conversation turns:\n",
    "def create_input_output_pairs(df):\n",
    "    conversation_pairs = []\n",
    "    grouped_conversations = df.groupby('Conversation ID')\n",
    "    \n",
    "    for _, group in grouped_conversations:\n",
    "        group = group.sort_values(by='Turn ID')\n",
    "        for i in range(len(group) - 1):\n",
    "            input_text = group.iloc[i]['input_ids']\n",
    "            response_text = group.iloc[i + 1]['input_ids']\n",
    "            conversation_pairs.append((input_text, response_text))\n",
    "    \n",
    "    return conversation_pairs\n",
    "\n",
    "# Generate input-output pairs for train, validation, and test datasets:\n",
    "train_pairs = create_input_output_pairs(train_df)\n",
    "val_pairs = create_input_output_pairs(val_df)\n",
    "test_pairs = create_input_output_pairs(test_df)\n",
    "\n",
    "# Check the number of pairs generated:\n",
    "print(f\"Total train pairs: {len(train_pairs)}\")\n",
    "print(f\"Total validation pairs: {len(val_pairs)}\")\n",
    "print(f\"Total test pairs: {len(test_pairs)}\")\n"
   ]
  },
  {
   "cell_type": "code",
   "execution_count": 11,
   "id": "e813c6e6-40bd-4b59-9530-e32760323cba",
   "metadata": {},
   "outputs": [],
   "source": [
    "import torch\n",
    "from torch.utils.data import Dataset\n",
    "\n",
    "class ConversationDataset(Dataset):\n",
    "    def __init__(self, tokenized_pairs):\n",
    "        self.data = tokenized_pairs\n",
    "\n",
    "    def __len__(self):\n",
    "        return len(self.data)\n",
    "\n",
    "    def __getitem__(self, idx):\n",
    "        input_ids, response_ids = self.data[idx]  # Each entry in data is (input_ids, response_ids)\n",
    "\n",
    "        return {\n",
    "            'input_ids': torch.tensor(input_ids, dtype=torch.long),\n",
    "            'labels': torch.tensor(response_ids, dtype=torch.long)\n",
    "        }\n"
   ]
  },
  {
   "cell_type": "code",
   "execution_count": 12,
   "id": "ef9221e9-9651-4d19-9738-56a75513e2df",
   "metadata": {},
   "outputs": [
    {
     "name": "stdout",
     "output_type": "stream",
     "text": [
      "Total train batches: 312\n",
      "Total validation batches: 17\n"
     ]
    }
   ],
   "source": [
    "# Instantiate datasets:\n",
    "train_dataset = ConversationDataset(train_pairs)\n",
    "val_dataset = ConversationDataset(val_pairs)\n",
    "\n",
    "# Create DataLoaders:\n",
    "batch_size = 16  # Adjust based on your GPU memory\n",
    "train_dataloader = DataLoader(train_dataset, batch_size=batch_size, shuffle=True)\n",
    "val_dataloader = DataLoader(val_dataset, batch_size=batch_size, shuffle=False)\n",
    "\n",
    "\n",
    "print(f\"Total train batches: {len(train_dataloader)}\")\n",
    "print(f\"Total validation batches: {len(val_dataloader)}\")\n"
   ]
  },
  {
   "cell_type": "code",
   "execution_count": 15,
   "id": "1fccef64-d2e2-4ac5-ad10-c440407969d1",
   "metadata": {},
   "outputs": [
    {
     "name": "stderr",
     "output_type": "stream",
     "text": [
      "C:\\Users\\aktha\\anaconda3\\envs\\tf_env\\lib\\site-packages\\peft\\tuners\\lora\\layer.py:1150: UserWarning: fan_in_fan_out is set to False but the target module is `Conv1D`. Setting fan_in_fan_out to True.\n",
      "  warnings.warn(\n"
     ]
    }
   ],
   "source": [
    "# Load the GPT-2 model:\n",
    "model = GPT2LMHeadModel.from_pretrained(\"gpt2\")\n",
    "model.resize_token_embeddings(len(tokenizer))\n",
    "\n",
    "# Apply LoRA:\n",
    "peft_model = peft.get_peft_model(model, peft.LoraConfig(r=8, lora_alpha=16, lora_dropout=0.1))\n",
    "\n",
    "# Initialize the optimizer (AdamW):\n",
    "from torch.optim import AdamW\n",
    "optimizer = AdamW(peft_model.parameters(), lr=5e-5)\n"
   ]
  },
  {
   "cell_type": "code",
   "execution_count": 16,
   "id": "af7bce36-0523-4ba7-bdce-e3df9a195d32",
   "metadata": {},
   "outputs": [
    {
     "name": "stderr",
     "output_type": "stream",
     "text": [
      "wandb: Using wandb-core as the SDK backend. Please refer to https://wandb.me/wandb-core for more information.\n",
      "wandb: Currently logged in as: aktham-momani81 (aktham-momani81-university-of-san-diego). Use `wandb login --relogin` to force relogin\n"
     ]
    },
    {
     "data": {
      "application/vnd.jupyter.widget-view+json": {
       "model_id": "947856881b124c038e80861cdcdc2f6a",
       "version_major": 2,
       "version_minor": 0
      },
      "text/plain": [
       "VBox(children=(Label(value='Waiting for wandb.init()...\\r'), FloatProgress(value=0.011288888888925108, max=1.0…"
      ]
     },
     "metadata": {},
     "output_type": "display_data"
    },
    {
     "data": {
      "text/html": [
       "Tracking run with wandb version 0.18.3"
      ],
      "text/plain": [
       "<IPython.core.display.HTML object>"
      ]
     },
     "metadata": {},
     "output_type": "display_data"
    },
    {
     "data": {
      "text/html": [
       "Run data is saved locally in <code>C:\\Users\\aktha\\Desktop\\USD MS-AAI\\WINTER 2024\\AAI 520 Natural Language Processing and GenAI\\final project\\Notebooks\\Data Wrangling and Pre Processing\\wandb\\run-20241016_221037-phabxq1r</code>"
      ],
      "text/plain": [
       "<IPython.core.display.HTML object>"
      ]
     },
     "metadata": {},
     "output_type": "display_data"
    },
    {
     "data": {
      "text/html": [
       "Syncing run <strong><a href='https://wandb.ai/aktham-momani81-university-of-san-diego/gpt2-lora-chatbot/runs/phabxq1r' target=\"_blank\">lora-finetuning</a></strong> to <a href='https://wandb.ai/aktham-momani81-university-of-san-diego/gpt2-lora-chatbot' target=\"_blank\">Weights & Biases</a> (<a href='https://wandb.me/run' target=\"_blank\">docs</a>)<br/>"
      ],
      "text/plain": [
       "<IPython.core.display.HTML object>"
      ]
     },
     "metadata": {},
     "output_type": "display_data"
    },
    {
     "data": {
      "text/html": [
       " View project at <a href='https://wandb.ai/aktham-momani81-university-of-san-diego/gpt2-lora-chatbot' target=\"_blank\">https://wandb.ai/aktham-momani81-university-of-san-diego/gpt2-lora-chatbot</a>"
      ],
      "text/plain": [
       "<IPython.core.display.HTML object>"
      ]
     },
     "metadata": {},
     "output_type": "display_data"
    },
    {
     "data": {
      "text/html": [
       " View run at <a href='https://wandb.ai/aktham-momani81-university-of-san-diego/gpt2-lora-chatbot/runs/phabxq1r' target=\"_blank\">https://wandb.ai/aktham-momani81-university-of-san-diego/gpt2-lora-chatbot/runs/phabxq1r</a>"
      ],
      "text/plain": [
       "<IPython.core.display.HTML object>"
      ]
     },
     "metadata": {},
     "output_type": "display_data"
    },
    {
     "data": {
      "text/plain": [
       "[]"
      ]
     },
     "execution_count": 16,
     "metadata": {},
     "output_type": "execute_result"
    },
    {
     "name": "stderr",
     "output_type": "stream",
     "text": [
      "wandb: WARNING Fatal error while uploading data. Some run data will not be synced, but it will still be written to disk. Use `wandb sync` at the end of the run to try uploading.\n"
     ]
    }
   ],
   "source": [
    "# Initialize WandB:\n",
    "wandb.init(project=\"gpt2-lora-chatbot\", name=\"lora-finetuning\")\n",
    "\n",
    "# Watch the model to log gradients and weights:\n",
    "wandb.watch(peft_model)\n"
   ]
  },
  {
   "cell_type": "code",
   "execution_count": 21,
   "id": "8499569a-2e22-4064-a886-bea264c48cb9",
   "metadata": {},
   "outputs": [],
   "source": [
    "training_args = TrainingArguments(\n",
    "    output_dir=\"./results\",\n",
    "    run_name=\"gpt2-lora-chatbot\",  # Unique run name for WandB\n",
    "    logging_dir=\"./logs\",\n",
    "    logging_steps=10,\n",
    "    evaluation_strategy=\"steps\",\n",
    "    eval_steps=500,\n",
    "    per_device_train_batch_size=34, #16\n",
    "    per_device_eval_batch_size=32, #16\n",
    "    num_train_epochs=3,\n",
    "    report_to=\"wandb\",  # Reports metrics to WandB\n",
    "    save_steps=1000,\n",
    "    save_total_limit=3\n",
    ")\n"
   ]
  },
  {
   "cell_type": "code",
   "execution_count": 22,
   "id": "b1d10f13-3990-4949-908e-5bbca57b0d4b",
   "metadata": {},
   "outputs": [
    {
     "data": {
      "text/html": [
       "\n",
       "    <div>\n",
       "      \n",
       "      <progress value='441' max='441' style='width:300px; height:20px; vertical-align: middle;'></progress>\n",
       "      [441/441 6:00:23, Epoch 3/3]\n",
       "    </div>\n",
       "    <table border=\"1\" class=\"dataframe\">\n",
       "  <thead>\n",
       " <tr style=\"text-align: left;\">\n",
       "      <th>Step</th>\n",
       "      <th>Training Loss</th>\n",
       "      <th>Validation Loss</th>\n",
       "    </tr>\n",
       "  </thead>\n",
       "  <tbody>\n",
       "  </tbody>\n",
       "</table><p>"
      ],
      "text/plain": [
       "<IPython.core.display.HTML object>"
      ]
     },
     "metadata": {},
     "output_type": "display_data"
    },
    {
     "data": {
      "text/plain": [
       "TrainOutput(global_step=441, training_loss=1.3244601288079674, metrics={'train_runtime': 21736.0668, 'train_samples_per_second': 0.688, 'train_steps_per_second': 0.02, 'total_flos': 1378813257031680.0, 'train_loss': 1.3244601288079674, 'epoch': 3.0})"
      ]
     },
     "execution_count": 22,
     "metadata": {},
     "output_type": "execute_result"
    }
   ],
   "source": [
    "# Create the Trainer instance\n",
    "trainer = Trainer(\n",
    "    model=peft_model,  # The LoRA fine-tuned model\n",
    "    args=training_args,\n",
    "    train_dataset=train_dataset,  # Train dataset\n",
    "    eval_dataset=val_dataset,  # Validation dataset\n",
    "    optimizers=(optimizer, None)  # Custom optimizer (AdamW)\n",
    ")\n",
    "\n",
    "# Start training\n",
    "trainer.train()\n"
   ]
  },
  {
   "cell_type": "code",
   "execution_count": 23,
   "id": "44d03829-9171-401b-9b1c-61548f62ef9f",
   "metadata": {},
   "outputs": [
    {
     "name": "stdout",
     "output_type": "stream",
     "text": [
      "Model saved to ./gpt2_chatbot_model\n"
     ]
    }
   ],
   "source": [
    "# Save the model and tokenizer:\n",
    "output_dir = './gpt2_chatbot_model'\n",
    "\n",
    "model.save_pretrained(output_dir)\n",
    "tokenizer.save_pretrained(output_dir)\n",
    "\n",
    "print(f\"Model saved to {output_dir}\")"
   ]
  },
  {
   "cell_type": "code",
   "execution_count": 25,
   "id": "19e65a30-1d56-4114-9a64-c7b34759a00b",
   "metadata": {},
   "outputs": [
    {
     "name": "stderr",
     "output_type": "stream",
     "text": [
      "Some weights of the model checkpoint at ./gpt2_chatbot_model were not used when initializing GPT2LMHeadModel: ['transformer.h.0.attn.c_attn.base_layer.bias', 'transformer.h.0.attn.c_attn.base_layer.weight', 'transformer.h.0.attn.c_attn.lora_A.default.weight', 'transformer.h.0.attn.c_attn.lora_B.default.weight', 'transformer.h.1.attn.c_attn.base_layer.bias', 'transformer.h.1.attn.c_attn.base_layer.weight', 'transformer.h.1.attn.c_attn.lora_A.default.weight', 'transformer.h.1.attn.c_attn.lora_B.default.weight', 'transformer.h.10.attn.c_attn.base_layer.bias', 'transformer.h.10.attn.c_attn.base_layer.weight', 'transformer.h.10.attn.c_attn.lora_A.default.weight', 'transformer.h.10.attn.c_attn.lora_B.default.weight', 'transformer.h.11.attn.c_attn.base_layer.bias', 'transformer.h.11.attn.c_attn.base_layer.weight', 'transformer.h.11.attn.c_attn.lora_A.default.weight', 'transformer.h.11.attn.c_attn.lora_B.default.weight', 'transformer.h.2.attn.c_attn.base_layer.bias', 'transformer.h.2.attn.c_attn.base_layer.weight', 'transformer.h.2.attn.c_attn.lora_A.default.weight', 'transformer.h.2.attn.c_attn.lora_B.default.weight', 'transformer.h.3.attn.c_attn.base_layer.bias', 'transformer.h.3.attn.c_attn.base_layer.weight', 'transformer.h.3.attn.c_attn.lora_A.default.weight', 'transformer.h.3.attn.c_attn.lora_B.default.weight', 'transformer.h.4.attn.c_attn.base_layer.bias', 'transformer.h.4.attn.c_attn.base_layer.weight', 'transformer.h.4.attn.c_attn.lora_A.default.weight', 'transformer.h.4.attn.c_attn.lora_B.default.weight', 'transformer.h.5.attn.c_attn.base_layer.bias', 'transformer.h.5.attn.c_attn.base_layer.weight', 'transformer.h.5.attn.c_attn.lora_A.default.weight', 'transformer.h.5.attn.c_attn.lora_B.default.weight', 'transformer.h.6.attn.c_attn.base_layer.bias', 'transformer.h.6.attn.c_attn.base_layer.weight', 'transformer.h.6.attn.c_attn.lora_A.default.weight', 'transformer.h.6.attn.c_attn.lora_B.default.weight', 'transformer.h.7.attn.c_attn.base_layer.bias', 'transformer.h.7.attn.c_attn.base_layer.weight', 'transformer.h.7.attn.c_attn.lora_A.default.weight', 'transformer.h.7.attn.c_attn.lora_B.default.weight', 'transformer.h.8.attn.c_attn.base_layer.bias', 'transformer.h.8.attn.c_attn.base_layer.weight', 'transformer.h.8.attn.c_attn.lora_A.default.weight', 'transformer.h.8.attn.c_attn.lora_B.default.weight', 'transformer.h.9.attn.c_attn.base_layer.bias', 'transformer.h.9.attn.c_attn.base_layer.weight', 'transformer.h.9.attn.c_attn.lora_A.default.weight', 'transformer.h.9.attn.c_attn.lora_B.default.weight']\n",
      "- This IS expected if you are initializing GPT2LMHeadModel from the checkpoint of a model trained on another task or with another architecture (e.g. initializing a BertForSequenceClassification model from a BertForPreTraining model).\n",
      "- This IS NOT expected if you are initializing GPT2LMHeadModel from the checkpoint of a model that you expect to be exactly identical (initializing a BertForSequenceClassification model from a BertForSequenceClassification model).\n",
      "Some weights of GPT2LMHeadModel were not initialized from the model checkpoint at ./gpt2_chatbot_model and are newly initialized: ['transformer.h.0.attn.c_attn.bias', 'transformer.h.0.attn.c_attn.weight', 'transformer.h.1.attn.c_attn.bias', 'transformer.h.1.attn.c_attn.weight', 'transformer.h.10.attn.c_attn.bias', 'transformer.h.10.attn.c_attn.weight', 'transformer.h.11.attn.c_attn.bias', 'transformer.h.11.attn.c_attn.weight', 'transformer.h.2.attn.c_attn.bias', 'transformer.h.2.attn.c_attn.weight', 'transformer.h.3.attn.c_attn.bias', 'transformer.h.3.attn.c_attn.weight', 'transformer.h.4.attn.c_attn.bias', 'transformer.h.4.attn.c_attn.weight', 'transformer.h.5.attn.c_attn.bias', 'transformer.h.5.attn.c_attn.weight', 'transformer.h.6.attn.c_attn.bias', 'transformer.h.6.attn.c_attn.weight', 'transformer.h.7.attn.c_attn.bias', 'transformer.h.7.attn.c_attn.weight', 'transformer.h.8.attn.c_attn.bias', 'transformer.h.8.attn.c_attn.weight', 'transformer.h.9.attn.c_attn.bias', 'transformer.h.9.attn.c_attn.weight']\n",
      "You should probably TRAIN this model on a down-stream task to be able to use it for predictions and inference.\n"
     ]
    },
    {
     "name": "stdout",
     "output_type": "stream",
     "text": [
      "Generated Response: Hello! How are you?\n",
      "In the one of the people who is not only that the people who is not only one of the world history of the way back to which is the same as it is a single-Outs]\n",
      "(s\n",
      "Generated Response: Hello! How are you?\n",
      "\n",
      "\n",
      "In the people with the way back to all this, in the way too much of the same as the same as a personas of the way back to which are in which is not only the city by the\n"
     ]
    }
   ],
   "source": [
    "from transformers import GPT2Tokenizer, GPT2LMHeadModel\n",
    "\n",
    "# Load the model and tokenizer from the saved directory:\n",
    "tokenizer = GPT2Tokenizer.from_pretrained(output_dir)\n",
    "model = GPT2LMHeadModel.from_pretrained(output_dir)\n",
    "\n",
    "# Ensure that the tokenizer uses EOS token for padding:\n",
    "tokenizer.pad_token = tokenizer.eos_token\n",
    "\n",
    "def generate_response(input_text, model, tokenizer, max_length=50, num_beams=5, top_p=0.9, top_k=50):\n",
    "    input_ids = tokenizer.encode(input_text, return_tensors='pt')\n",
    "    generated_ids = model.generate(\n",
    "        input_ids,\n",
    "        max_length=max_length,\n",
    "        pad_token_id=tokenizer.eos_token_id,\n",
    "        num_beams=num_beams,  # Beam search for better quality output\n",
    "        top_p=top_p,          # Nucleus sampling to add randomness\n",
    "        top_k=top_k,          # Limit to top-k tokens\n",
    "        do_sample=True        # Enable sampling\n",
    "    )\n",
    "    return tokenizer.decode(generated_ids[0], skip_special_tokens=True)\n",
    "\n",
    "# Test the loaded model with an input:\n",
    "input_text = \"Hello! How are you?\"\n",
    "generated_response = generate_response(input_text, model, tokenizer)\n",
    "print(\"Generated Response:\", generated_response)\n",
    "\n",
    "\n",
    "# Test the loaded model with an input:\n",
    "input_text = \"Hello! How are you?\"\n",
    "generated_response = generate_response(input_text, model, tokenizer)\n",
    "print(\"Generated Response:\", generated_response)\n"
   ]
  },
  {
   "cell_type": "code",
   "execution_count": null,
   "id": "d112a731-1b9a-456d-8754-6a1074d68efd",
   "metadata": {},
   "outputs": [],
   "source": []
  },
  {
   "cell_type": "code",
   "execution_count": null,
   "id": "2e293bfb-050f-47ca-841b-68c2164782ba",
   "metadata": {},
   "outputs": [],
   "source": []
  }
 ],
 "metadata": {
  "kernelspec": {
   "display_name": "Python 3 (ipykernel)",
   "language": "python",
   "name": "python3"
  },
  "language_info": {
   "codemirror_mode": {
    "name": "ipython",
    "version": 3
   },
   "file_extension": ".py",
   "mimetype": "text/x-python",
   "name": "python",
   "nbconvert_exporter": "python",
   "pygments_lexer": "ipython3",
   "version": "3.8.19"
  }
 },
 "nbformat": 4,
 "nbformat_minor": 5
}
