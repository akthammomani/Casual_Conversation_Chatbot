{
 "cells": [
  {
   "cell_type": "markdown",
   "metadata": {
    "id": "U7JWzl2-9SGe"
   },
   "source": [
    "# **Modeling: LSTM (Long Short-Term Memory) Chit-Chat Bot**\n",
    "\n",
    "* **Group 8:** Aktham Almomani\n",
    "* **Course:** Natural Language Processing and GenAI (AAI-520-04) / University Of San Diego\n",
    "* **Semester:** Winter 2024"
   ]
  },
  {
   "cell_type": "markdown",
   "metadata": {},
   "source": [
    "## **Contents**<a is='Contents'></a>\r\n",
    "* [Introduction](#Introduction)\r\n",
    "* [Setup and preliminaries](#Setup_and_preliminaries)\r\n",
    "  * [Import Libraries](#Import_libraries)\r\n",
    "* [Importing dataset](#Importing_dataset)\r\n",
    "* [Data Preparation](#Data_Preparation)\r\n",
    "  * [Assessing Conversation Length](#Assessing_Conversation_Length)\r\n",
    "  * [Filtering Conversations by Length](#Filtering_Conversations_by_Length)\r\n",
    "  * [Removing Rare Words](#Removing_Rare_Words)\r\n",
    "  * [Preparing Conversation Sequences with Context](#Preparing_Conversation_Sequences_with_Context)\r\n",
    "* [Sequence Preparation and Padding](#Sequence_Preparation_and_Padding)\r\n",
    "* [Splitting Data into Training and Validation Sets](#Splitting_Data_into_Training_and_Validation_Sets)\r\n",
    "* [Data Generator for Efficient Batch Processing](#Data_Generator_for_Efficient_Batch_Processing)\r\n",
    "* [LSTM Architecture with Attention Mechanism](#LSTM_Architecture_with_Attention_Mechanism)\r\n",
    "* [LSTM LOSS & Accuracy](#LSTM_LOSS_Accuracy)\r\n",
    "* [Saving the Final Model](#Saving_the_Final_Model)\r\n",
    "* [Human-based Evaluation](#Human_based_Evaluation)\r\n",
    "* [BLEU & ROUGE Evaluation](#BLEU_ROUGE_Evaluation)"
   ]
  },
  {
   "cell_type": "markdown",
   "metadata": {
    "id": "2w_fgz6B9Y1S"
   },
   "source": [
    "## **Introduction**<a id='Introduction'></a>\n",
    "[Contents](#Contents)\n",
    "\n",
    "For this project, we selected **LSTM (Long Short-Term Memory)** as the final architecture for building our chatbot. `LSTM` is particularly well-suited for handling sequential data, such as conversations, due to its ability to retain information over long sequences and handle dependencies across time steps. This makes it an excellent choice for our chit-chat bot, where maintaining conversational context is crucial across multiple turns.\n",
    "\n",
    "**Why LSTM is a Good Choice:**\n",
    "\n",
    "* **Memory Retention:** Unlike traditional RNNs, LSTMs can remember long-term dependencies in a conversation, which is essential for context-sensitive responses.\n",
    "* **Handling Long Conversations:** LSTMs manage the vanishing gradient problem better than basic RNNs, allowing them to perform well with longer conversations where context from earlier exchanges matters.\n",
    "* **Efficiency:** LSTM’s cell states allow it to selectively forget or remember information, making it more efficient for training on sequence data.\n",
    "\n",
    "**LSTM vs. RNN:**\n",
    "\n",
    "* **RNN (Recurrent Neural Networks):** While RNNs are also used for sequence-based tasks, they have limitations due to the vanishing gradient problem, where older information tends to be lost during backpropagation, which can be detrimental to multi-turn conversations in a chatbot.\n",
    "\n",
    "* **LSTM:** Overcomes these issues by introducing gates (input, forget, and output gates) that allow it to control the flow of information through the network, retaining important parts of the conversation across longer sequences.\n",
    "\n",
    "Given these advantages, LSTM was chosen as the final architecture for our model, enabling the chatbot to handle conversational context and provide coherent multi-turn responses."
   ]
  },
  {
   "cell_type": "markdown",
   "metadata": {
    "id": "zmGCBkT89j7U"
   },
   "source": [
    "## **Setup and preliminaries**<a id='Setup_and_preliminaries'></a>\n",
    "[Contents](#Contents)"
   ]
  },
  {
   "cell_type": "markdown",
   "metadata": {
    "id": "tXUZEIAG9mYs"
   },
   "source": [
    "### **Import libraries**<a id='Import_libraries'></a>\n",
    "[Contents](#Contents)"
   ]
  },
  {
   "cell_type": "code",
   "execution_count": 1,
   "metadata": {
    "id": "v8L9s24LRy8O"
   },
   "outputs": [],
   "source": [
    "# Import TensorFlow:\n",
    "import tensorflow as tf\n",
    "\n",
    "# Then, import necessary submodules:\n",
    "from tensorflow.keras.preprocessing.text import Tokenizer\n",
    "from tensorflow.keras.preprocessing.sequence import pad_sequences\n",
    "from tensorflow.keras.models import Sequential\n",
    "from tensorflow.keras.layers import Embedding, LSTM, Dense, Dropout, Bidirectional, BatchNormalization, Attention\n",
    "from tensorflow.keras.utils import Sequence, to_categorical\n",
    "from tensorflow.keras.callbacks import EarlyStopping\n",
    "from tensorflow.keras.optimizers import Adam\n",
    "from tensorflow.keras.constraints import MaxNorm\n",
    "from tensorflow.keras.callbacks import ReduceLROnPlateau\n",
    "\n",
    "\n",
    "# Other necessary imports:\n",
    "import json\n",
    "import re\n",
    "import pandas as pd\n",
    "import numpy as np\n",
    "import matplotlib.pyplot as plt\n",
    "import spacy\n",
    "from tqdm import tqdm\n",
    "import random\n",
    "\n"
   ]
  },
  {
   "cell_type": "code",
   "execution_count": 2,
   "metadata": {
    "colab": {
     "base_uri": "https://localhost:8080/"
    },
    "id": "BLn4r_inSoIj",
    "outputId": "d83a3e6f-8940-4ccb-ecd3-0dc45bbf92d3"
   },
   "outputs": [
    {
     "name": "stdout",
     "output_type": "stream",
     "text": [
      "Drive already mounted at /content/drive; to attempt to forcibly remount, call drive.mount(\"/content/drive\", force_remount=True).\n"
     ]
    }
   ],
   "source": [
    "from google.colab import drive\n",
    "drive.mount('/content/drive')"
   ]
  },
  {
   "cell_type": "markdown",
   "metadata": {
    "id": "KI58563E93GO"
   },
   "source": [
    "## **Importing Dataset**<a id='Importing Dataset'></a>\n",
    "[Contents](#Contents)"
   ]
  },
  {
   "cell_type": "code",
   "execution_count": 3,
   "metadata": {
    "colab": {
     "base_uri": "https://localhost:8080/",
     "height": 206
    },
    "id": "zFBtMOqcTQ-x",
    "outputId": "cf547b2b-7dff-443f-c285-89c24eae2030"
   },
   "outputs": [
    {
     "data": {
      "application/vnd.google.colaboratory.intrinsic+json": {
       "type": "dataframe",
       "variable_name": "df"
      },
      "text/html": [
       "\n",
       "  <div id=\"df-a87492d9-f2db-4f6f-ad01-a96eb2b61b0c\" class=\"colab-df-container\">\n",
       "    <div>\n",
       "<style scoped>\n",
       "    .dataframe tbody tr th:only-of-type {\n",
       "        vertical-align: middle;\n",
       "    }\n",
       "\n",
       "    .dataframe tbody tr th {\n",
       "        vertical-align: top;\n",
       "    }\n",
       "\n",
       "    .dataframe thead th {\n",
       "        text-align: right;\n",
       "    }\n",
       "</style>\n",
       "<table border=\"1\" class=\"dataframe\">\n",
       "  <thead>\n",
       "    <tr style=\"text-align: right;\">\n",
       "      <th></th>\n",
       "      <th>Conversation ID</th>\n",
       "      <th>Turn ID</th>\n",
       "      <th>Text</th>\n",
       "      <th>cleaned_text</th>\n",
       "    </tr>\n",
       "  </thead>\n",
       "  <tbody>\n",
       "    <tr>\n",
       "      <th>0</th>\n",
       "      <td>1</td>\n",
       "      <td>1</td>\n",
       "      <td>Can we make this quick?  Roxanne Korrine and A...</td>\n",
       "      <td>can we make this quick Roxanne Korrine and And...</td>\n",
       "    </tr>\n",
       "    <tr>\n",
       "      <th>1</th>\n",
       "      <td>1</td>\n",
       "      <td>2</td>\n",
       "      <td>Well, I thought we'd start with pronunciation,...</td>\n",
       "      <td>well i thought we d start with pronunciation i...</td>\n",
       "    </tr>\n",
       "    <tr>\n",
       "      <th>2</th>\n",
       "      <td>1</td>\n",
       "      <td>3</td>\n",
       "      <td>Not the hacking and gagging and spitting part....</td>\n",
       "      <td>not the hacking and gagging and spitting part ...</td>\n",
       "    </tr>\n",
       "    <tr>\n",
       "      <th>3</th>\n",
       "      <td>1</td>\n",
       "      <td>4</td>\n",
       "      <td>Okay... then how 'bout we try out some French ...</td>\n",
       "      <td>okay then how bout we try out some french cuis...</td>\n",
       "    </tr>\n",
       "    <tr>\n",
       "      <th>4</th>\n",
       "      <td>2</td>\n",
       "      <td>1</td>\n",
       "      <td>You're asking me out.  That's so cute. What's ...</td>\n",
       "      <td>you re asking me out that s so cute what s you...</td>\n",
       "    </tr>\n",
       "  </tbody>\n",
       "</table>\n",
       "</div>\n",
       "    <div class=\"colab-df-buttons\">\n",
       "\n",
       "  <div class=\"colab-df-container\">\n",
       "    <button class=\"colab-df-convert\" onclick=\"convertToInteractive('df-a87492d9-f2db-4f6f-ad01-a96eb2b61b0c')\"\n",
       "            title=\"Convert this dataframe to an interactive table.\"\n",
       "            style=\"display:none;\">\n",
       "\n",
       "  <svg xmlns=\"http://www.w3.org/2000/svg\" height=\"24px\" viewBox=\"0 -960 960 960\">\n",
       "    <path d=\"M120-120v-720h720v720H120Zm60-500h600v-160H180v160Zm220 220h160v-160H400v160Zm0 220h160v-160H400v160ZM180-400h160v-160H180v160Zm440 0h160v-160H620v160ZM180-180h160v-160H180v160Zm440 0h160v-160H620v160Z\"/>\n",
       "  </svg>\n",
       "    </button>\n",
       "\n",
       "  <style>\n",
       "    .colab-df-container {\n",
       "      display:flex;\n",
       "      gap: 12px;\n",
       "    }\n",
       "\n",
       "    .colab-df-convert {\n",
       "      background-color: #E8F0FE;\n",
       "      border: none;\n",
       "      border-radius: 50%;\n",
       "      cursor: pointer;\n",
       "      display: none;\n",
       "      fill: #1967D2;\n",
       "      height: 32px;\n",
       "      padding: 0 0 0 0;\n",
       "      width: 32px;\n",
       "    }\n",
       "\n",
       "    .colab-df-convert:hover {\n",
       "      background-color: #E2EBFA;\n",
       "      box-shadow: 0px 1px 2px rgba(60, 64, 67, 0.3), 0px 1px 3px 1px rgba(60, 64, 67, 0.15);\n",
       "      fill: #174EA6;\n",
       "    }\n",
       "\n",
       "    .colab-df-buttons div {\n",
       "      margin-bottom: 4px;\n",
       "    }\n",
       "\n",
       "    [theme=dark] .colab-df-convert {\n",
       "      background-color: #3B4455;\n",
       "      fill: #D2E3FC;\n",
       "    }\n",
       "\n",
       "    [theme=dark] .colab-df-convert:hover {\n",
       "      background-color: #434B5C;\n",
       "      box-shadow: 0px 1px 3px 1px rgba(0, 0, 0, 0.15);\n",
       "      filter: drop-shadow(0px 1px 2px rgba(0, 0, 0, 0.3));\n",
       "      fill: #FFFFFF;\n",
       "    }\n",
       "  </style>\n",
       "\n",
       "    <script>\n",
       "      const buttonEl =\n",
       "        document.querySelector('#df-a87492d9-f2db-4f6f-ad01-a96eb2b61b0c button.colab-df-convert');\n",
       "      buttonEl.style.display =\n",
       "        google.colab.kernel.accessAllowed ? 'block' : 'none';\n",
       "\n",
       "      async function convertToInteractive(key) {\n",
       "        const element = document.querySelector('#df-a87492d9-f2db-4f6f-ad01-a96eb2b61b0c');\n",
       "        const dataTable =\n",
       "          await google.colab.kernel.invokeFunction('convertToInteractive',\n",
       "                                                    [key], {});\n",
       "        if (!dataTable) return;\n",
       "\n",
       "        const docLinkHtml = 'Like what you see? Visit the ' +\n",
       "          '<a target=\"_blank\" href=https://colab.research.google.com/notebooks/data_table.ipynb>data table notebook</a>'\n",
       "          + ' to learn more about interactive tables.';\n",
       "        element.innerHTML = '';\n",
       "        dataTable['output_type'] = 'display_data';\n",
       "        await google.colab.output.renderOutput(dataTable, element);\n",
       "        const docLink = document.createElement('div');\n",
       "        docLink.innerHTML = docLinkHtml;\n",
       "        element.appendChild(docLink);\n",
       "      }\n",
       "    </script>\n",
       "  </div>\n",
       "\n",
       "\n",
       "<div id=\"df-d7cb86b6-43f8-4a6c-851e-01a6d1ae7ce2\">\n",
       "  <button class=\"colab-df-quickchart\" onclick=\"quickchart('df-d7cb86b6-43f8-4a6c-851e-01a6d1ae7ce2')\"\n",
       "            title=\"Suggest charts\"\n",
       "            style=\"display:none;\">\n",
       "\n",
       "<svg xmlns=\"http://www.w3.org/2000/svg\" height=\"24px\"viewBox=\"0 0 24 24\"\n",
       "     width=\"24px\">\n",
       "    <g>\n",
       "        <path d=\"M19 3H5c-1.1 0-2 .9-2 2v14c0 1.1.9 2 2 2h14c1.1 0 2-.9 2-2V5c0-1.1-.9-2-2-2zM9 17H7v-7h2v7zm4 0h-2V7h2v10zm4 0h-2v-4h2v4z\"/>\n",
       "    </g>\n",
       "</svg>\n",
       "  </button>\n",
       "\n",
       "<style>\n",
       "  .colab-df-quickchart {\n",
       "      --bg-color: #E8F0FE;\n",
       "      --fill-color: #1967D2;\n",
       "      --hover-bg-color: #E2EBFA;\n",
       "      --hover-fill-color: #174EA6;\n",
       "      --disabled-fill-color: #AAA;\n",
       "      --disabled-bg-color: #DDD;\n",
       "  }\n",
       "\n",
       "  [theme=dark] .colab-df-quickchart {\n",
       "      --bg-color: #3B4455;\n",
       "      --fill-color: #D2E3FC;\n",
       "      --hover-bg-color: #434B5C;\n",
       "      --hover-fill-color: #FFFFFF;\n",
       "      --disabled-bg-color: #3B4455;\n",
       "      --disabled-fill-color: #666;\n",
       "  }\n",
       "\n",
       "  .colab-df-quickchart {\n",
       "    background-color: var(--bg-color);\n",
       "    border: none;\n",
       "    border-radius: 50%;\n",
       "    cursor: pointer;\n",
       "    display: none;\n",
       "    fill: var(--fill-color);\n",
       "    height: 32px;\n",
       "    padding: 0;\n",
       "    width: 32px;\n",
       "  }\n",
       "\n",
       "  .colab-df-quickchart:hover {\n",
       "    background-color: var(--hover-bg-color);\n",
       "    box-shadow: 0 1px 2px rgba(60, 64, 67, 0.3), 0 1px 3px 1px rgba(60, 64, 67, 0.15);\n",
       "    fill: var(--button-hover-fill-color);\n",
       "  }\n",
       "\n",
       "  .colab-df-quickchart-complete:disabled,\n",
       "  .colab-df-quickchart-complete:disabled:hover {\n",
       "    background-color: var(--disabled-bg-color);\n",
       "    fill: var(--disabled-fill-color);\n",
       "    box-shadow: none;\n",
       "  }\n",
       "\n",
       "  .colab-df-spinner {\n",
       "    border: 2px solid var(--fill-color);\n",
       "    border-color: transparent;\n",
       "    border-bottom-color: var(--fill-color);\n",
       "    animation:\n",
       "      spin 1s steps(1) infinite;\n",
       "  }\n",
       "\n",
       "  @keyframes spin {\n",
       "    0% {\n",
       "      border-color: transparent;\n",
       "      border-bottom-color: var(--fill-color);\n",
       "      border-left-color: var(--fill-color);\n",
       "    }\n",
       "    20% {\n",
       "      border-color: transparent;\n",
       "      border-left-color: var(--fill-color);\n",
       "      border-top-color: var(--fill-color);\n",
       "    }\n",
       "    30% {\n",
       "      border-color: transparent;\n",
       "      border-left-color: var(--fill-color);\n",
       "      border-top-color: var(--fill-color);\n",
       "      border-right-color: var(--fill-color);\n",
       "    }\n",
       "    40% {\n",
       "      border-color: transparent;\n",
       "      border-right-color: var(--fill-color);\n",
       "      border-top-color: var(--fill-color);\n",
       "    }\n",
       "    60% {\n",
       "      border-color: transparent;\n",
       "      border-right-color: var(--fill-color);\n",
       "    }\n",
       "    80% {\n",
       "      border-color: transparent;\n",
       "      border-right-color: var(--fill-color);\n",
       "      border-bottom-color: var(--fill-color);\n",
       "    }\n",
       "    90% {\n",
       "      border-color: transparent;\n",
       "      border-bottom-color: var(--fill-color);\n",
       "    }\n",
       "  }\n",
       "</style>\n",
       "\n",
       "  <script>\n",
       "    async function quickchart(key) {\n",
       "      const quickchartButtonEl =\n",
       "        document.querySelector('#' + key + ' button');\n",
       "      quickchartButtonEl.disabled = true;  // To prevent multiple clicks.\n",
       "      quickchartButtonEl.classList.add('colab-df-spinner');\n",
       "      try {\n",
       "        const charts = await google.colab.kernel.invokeFunction(\n",
       "            'suggestCharts', [key], {});\n",
       "      } catch (error) {\n",
       "        console.error('Error during call to suggestCharts:', error);\n",
       "      }\n",
       "      quickchartButtonEl.classList.remove('colab-df-spinner');\n",
       "      quickchartButtonEl.classList.add('colab-df-quickchart-complete');\n",
       "    }\n",
       "    (() => {\n",
       "      let quickchartButtonEl =\n",
       "        document.querySelector('#df-d7cb86b6-43f8-4a6c-851e-01a6d1ae7ce2 button');\n",
       "      quickchartButtonEl.style.display =\n",
       "        google.colab.kernel.accessAllowed ? 'block' : 'none';\n",
       "    })();\n",
       "  </script>\n",
       "</div>\n",
       "\n",
       "    </div>\n",
       "  </div>\n"
      ],
      "text/plain": [
       "   Conversation ID  Turn ID  \\\n",
       "0                1        1   \n",
       "1                1        2   \n",
       "2                1        3   \n",
       "3                1        4   \n",
       "4                2        1   \n",
       "\n",
       "                                                Text  \\\n",
       "0  Can we make this quick?  Roxanne Korrine and A...   \n",
       "1  Well, I thought we'd start with pronunciation,...   \n",
       "2  Not the hacking and gagging and spitting part....   \n",
       "3  Okay... then how 'bout we try out some French ...   \n",
       "4  You're asking me out.  That's so cute. What's ...   \n",
       "\n",
       "                                        cleaned_text  \n",
       "0  can we make this quick Roxanne Korrine and And...  \n",
       "1  well i thought we d start with pronunciation i...  \n",
       "2  not the hacking and gagging and spitting part ...  \n",
       "3  okay then how bout we try out some french cuis...  \n",
       "4  you re asking me out that s so cute what s you...  "
      ]
     },
     "execution_count": 3,
     "metadata": {},
     "output_type": "execute_result"
    }
   ],
   "source": [
    "df = pd.read_csv(\"/content/drive/My Drive/USD-AAI/cleaned_conversational_data_v1.csv\")\n",
    "df.head()"
   ]
  },
  {
   "cell_type": "code",
   "execution_count": 4,
   "metadata": {
    "colab": {
     "base_uri": "https://localhost:8080/"
    },
    "id": "4vk3N0N-TW9Y",
    "outputId": "25ca9c4c-9f19-4849-ec96-676f0c9b49f4"
   },
   "outputs": [
    {
     "name": "stdout",
     "output_type": "stream",
     "text": [
      "<class 'pandas.core.frame.DataFrame'>\n",
      "RangeIndex: 304713 entries, 0 to 304712\n",
      "Data columns (total 4 columns):\n",
      " #   Column           Non-Null Count   Dtype \n",
      "---  ------           --------------   ----- \n",
      " 0   Conversation ID  304713 non-null  int64 \n",
      " 1   Turn ID          304713 non-null  int64 \n",
      " 2   Text             304446 non-null  object\n",
      " 3   cleaned_text     304276 non-null  object\n",
      "dtypes: int64(2), object(2)\n",
      "memory usage: 9.3+ MB\n"
     ]
    }
   ],
   "source": [
    "df.info()"
   ]
  },
  {
   "cell_type": "code",
   "execution_count": 5,
   "metadata": {
    "colab": {
     "base_uri": "https://localhost:8080/"
    },
    "id": "Vy1GRl_gTbWR",
    "outputId": "a1a2ce00-1603-4b1e-cded-86fbcf43d30a"
   },
   "outputs": [
    {
     "name": "stdout",
     "output_type": "stream",
     "text": [
      "Number of null values in 'cleaned_text': 437\n"
     ]
    }
   ],
   "source": [
    "# Check for null values in the 'cleaned_text' column\n",
    "null_values = df['cleaned_text'].isnull().sum()\n",
    "\n",
    "print(f\"Number of null values in 'cleaned_text': {null_values}\")"
   ]
  },
  {
   "cell_type": "code",
   "execution_count": 6,
   "metadata": {
    "id": "o5M8EunyTfPR"
   },
   "outputs": [],
   "source": [
    "df = df.dropna(subset=['cleaned_text'])"
   ]
  },
  {
   "cell_type": "code",
   "execution_count": 7,
   "metadata": {
    "colab": {
     "base_uri": "https://localhost:8080/"
    },
    "id": "ucY6qqm9ThQi",
    "outputId": "9e7407a7-c7a6-4db6-91a6-5881392ad2fa"
   },
   "outputs": [
    {
     "name": "stdout",
     "output_type": "stream",
     "text": [
      "<class 'pandas.core.frame.DataFrame'>\n",
      "Index: 304276 entries, 0 to 304712\n",
      "Data columns (total 4 columns):\n",
      " #   Column           Non-Null Count   Dtype \n",
      "---  ------           --------------   ----- \n",
      " 0   Conversation ID  304276 non-null  int64 \n",
      " 1   Turn ID          304276 non-null  int64 \n",
      " 2   Text             304276 non-null  object\n",
      " 3   cleaned_text     304276 non-null  object\n",
      "dtypes: int64(2), object(2)\n",
      "memory usage: 11.6+ MB\n"
     ]
    }
   ],
   "source": [
    "df.info()"
   ]
  },
  {
   "cell_type": "code",
   "execution_count": 8,
   "metadata": {
    "colab": {
     "base_uri": "https://localhost:8080/"
    },
    "id": "Pc5i-LlNTinT",
    "outputId": "84175f20-964a-45e2-e46e-065c173c7cb8"
   },
   "outputs": [
    {
     "data": {
      "text/plain": [
       "83038"
      ]
     },
     "execution_count": 8,
     "metadata": {},
     "output_type": "execute_result"
    }
   ],
   "source": [
    "# Show the unique count of 'Conversation ID'\n",
    "df['Conversation ID'].nunique()\n"
   ]
  },
  {
   "cell_type": "markdown",
   "metadata": {
    "id": "yZnZ6ObO-Bkx"
   },
   "source": [
    "## **Data Preparation**<a id='Data_Preparation'></a>\n",
    "[Contents](#Contents)\n",
    "\n",
    "### **Assessing Conversation Length**<a id='Assessing_Conversation_Length'></a>\n",
    "[Contents](#Contents)\n",
    "\n",
    "Understanding the length of the conversations in our dataset was crucial for designing the LSTM architecture. We assessed the distribution of conversation lengths to ensure that the model's input size was appropriate.\n",
    "\n",
    "Based on this distribution, we chose a maximum sequence length of 24 for the model, as it covers the vast majority of conversations in the dataset without excessively truncating or padding sequences."
   ]
  },
  {
   "cell_type": "code",
   "execution_count": 9,
   "metadata": {
    "colab": {
     "base_uri": "https://localhost:8080/",
     "height": 472
    },
    "id": "vJrG3ZUZTndr",
    "outputId": "dfc93273-d561-41d8-f2bb-b7a64e755b8f"
   },
   "outputs": [
    {
     "data": {
      "image/png": "[encoded data removed]",
      "text/plain": [
       "<Figure size 640x480 with 1 Axes>"
      ]
     },
     "metadata": {},
     "output_type": "display_data"
    }
   ],
   "source": [
    "# Extract the cleaned text column for processing:\n",
    "conversations = df['cleaned_text'].astype(str).tolist()\n",
    "\n",
    "# Compute conversation lengths\n",
    "conversation_lengths = [len(text.split()) for text in conversations]\n",
    "\n",
    "# Plot the histogram of conversation lengths:\n",
    "plt.hist(conversation_lengths, bins=50, color='blue', edgecolor='black')\n",
    "plt.title('Distribution of Conversation Lengths')\n",
    "plt.xlabel('Number of Words')\n",
    "plt.ylabel('Frequency')\n",
    "plt.show()"
   ]
  },
  {
   "cell_type": "markdown",
   "metadata": {
    "id": "9NI58dmL-HKV"
   },
   "source": [
    "**Summary Highlights:**\n",
    "\n",
    "* **Max conversation length:** `50 words`.\n",
    "* **Mean conversation length:** `10.82 words`.\n",
    "* **Median conversation length:** `7 words`.\n",
    "* **90th percentile:** `24 words`.\n",
    "\n",
    "The histogram shows a right-skewed distribution of conversation lengths, with most conversations containing fewer than `20 words`. The highest frequency occurs at around `6-8 words`, and there's a noticeable spike at `50 words`, indicating some conversations reach the maximum length.\n",
    "\n",
    "**Recommendation:** Based on the `90th percentile`, it's recommended to use a sequence length of `24 words` for modeling purposes. This length will cover `90%` of the conversations, ensuring that the model captures the majority of the data while maintaining computational efficiency."
   ]
  },
  {
   "cell_type": "markdown",
   "metadata": {},
   "source": [
    "### **Filtering Conversations by Length**<a id='Filtering_Conversations_by_Length'></a>\n",
    "[Contents](#Contents)"
   ]
  },
  {
   "cell_type": "code",
   "execution_count": 10,
   "metadata": {
    "id": "njCa0vAC1Et3"
   },
   "outputs": [],
   "source": [
    "# Remove conversations that are too long or too short\n",
    "upper_limit = np.percentile(conversation_lengths, 90)\n",
    "lower_limit = 2  # Remove conversations shorter than 2 words\n",
    "\n",
    "# Add conversation lengths to the DataFrame\n",
    "df['conversation_lengths'] = conversation_lengths\n",
    "\n",
    "# Filter the DataFrame\n",
    "df = df[(df['conversation_lengths'] >= lower_limit) & (df['conversation_lengths'] <= upper_limit)]\n",
    "\n"
   ]
  },
  {
   "cell_type": "code",
   "execution_count": 11,
   "metadata": {
    "colab": {
     "base_uri": "https://localhost:8080/"
    },
    "id": "WP541TY41E4W",
    "outputId": "fe5676fe-7028-473c-89e7-9e85d5fe6853"
   },
   "outputs": [
    {
     "data": {
      "text/plain": [
       "(252613, 5)"
      ]
     },
     "execution_count": 11,
     "metadata": {},
     "output_type": "execute_result"
    }
   ],
   "source": [
    "df.shape"
   ]
  },
  {
   "cell_type": "code",
   "execution_count": 12,
   "metadata": {
    "colab": {
     "base_uri": "https://localhost:8080/"
    },
    "id": "9rwBH01E1oKG",
    "outputId": "30fffa87-4741-4abb-cc41-cac6fd60e10b"
   },
   "outputs": [
    {
     "data": {
      "text/plain": [
       "81871"
      ]
     },
     "execution_count": 12,
     "metadata": {},
     "output_type": "execute_result"
    }
   ],
   "source": [
    "# Show the unique count of 'Conversation ID'\n",
    "df['Conversation ID'].nunique()"
   ]
  },
  {
   "cell_type": "markdown",
   "metadata": {},
   "source": [
    "### **Removing Rare Words**<a id='Removing_Rare_Words'></a>\n",
    "[Contents](#Contents)"
   ]
  },
  {
   "cell_type": "code",
   "execution_count": 13,
   "metadata": {
    "id": "NjrpnDzE1wL-"
   },
   "outputs": [],
   "source": [
    "# Tokenize the conversations to get word counts\n",
    "tokenizer = Tokenizer()\n",
    "tokenizer.fit_on_texts(df['cleaned_text'])\n",
    "word_counts = tokenizer.word_counts\n",
    "\n",
    "\n",
    "# Identify words that occur at least 5 times\n",
    "threshold = 5\n",
    "words_to_keep = {word for word, count in word_counts.items() if count >= threshold}\n",
    "\n",
    "# Function to remove rare words from text\n",
    "def remove_rare_words(text):\n",
    "    return ' '.join([word for word in text.split() if word in words_to_keep])\n",
    "\n",
    "# Apply the function to remove rare words from 'cleaned_text'\n",
    "df['cleaned_text'] = df['cleaned_text'].apply(remove_rare_words)\n",
    "\n",
    "# Drop rows where 'cleaned_text' is empty after removing rare words\n",
    "df = df[df['cleaned_text'].str.strip().astype(bool)]\n"
   ]
  },
  {
   "cell_type": "code",
   "execution_count": 14,
   "metadata": {
    "colab": {
     "base_uri": "https://localhost:8080/"
    },
    "id": "SCL5Ev0a3J6c",
    "outputId": "78f262db-d94f-428c-8af3-910abacd9498"
   },
   "outputs": [
    {
     "data": {
      "text/plain": [
       "81792"
      ]
     },
     "execution_count": 14,
     "metadata": {},
     "output_type": "execute_result"
    }
   ],
   "source": [
    "# Show the unique count of 'Conversation ID'\n",
    "df['Conversation ID'].nunique()"
   ]
  },
  {
   "cell_type": "code",
   "execution_count": 15,
   "metadata": {
    "colab": {
     "base_uri": "https://localhost:8080/"
    },
    "id": "1ngtrmvx3J__",
    "outputId": "fa97fa57-8ee2-4f8d-fda1-3effa18f3d56"
   },
   "outputs": [
    {
     "data": {
      "text/plain": [
       "(251370, 5)"
      ]
     },
     "execution_count": 15,
     "metadata": {},
     "output_type": "execute_result"
    }
   ],
   "source": [
    "df.shape"
   ]
  },
  {
   "cell_type": "code",
   "execution_count": 16,
   "metadata": {
    "colab": {
     "base_uri": "https://localhost:8080/"
    },
    "id": "s9lOpF055knl",
    "outputId": "95974b0a-0697-485b-f32e-e9f8278e2278"
   },
   "outputs": [
    {
     "name": "stdout",
     "output_type": "stream",
     "text": [
      "<class 'pandas.core.frame.DataFrame'>\n",
      "Index: 251370 entries, 0 to 304712\n",
      "Data columns (total 5 columns):\n",
      " #   Column                Non-Null Count   Dtype \n",
      "---  ------                --------------   ----- \n",
      " 0   Conversation ID       251370 non-null  int64 \n",
      " 1   Turn ID               251370 non-null  int64 \n",
      " 2   Text                  251370 non-null  object\n",
      " 3   cleaned_text          251370 non-null  object\n",
      " 4   conversation_lengths  251370 non-null  int64 \n",
      "dtypes: int64(3), object(2)\n",
      "memory usage: 11.5+ MB\n"
     ]
    }
   ],
   "source": [
    "df.info()"
   ]
  },
  {
   "cell_type": "markdown",
   "metadata": {},
   "source": [
    "### **Preparing Conversation Sequences with Context**<a id='Preparing_Conversation_Sequences_with_Context'></a>\r\n",
    "[Contents](#Contents)"
   ]
  },
  {
   "cell_type": "code",
   "execution_count": 17,
   "metadata": {
    "id": "9_9KrNM7BCdb"
   },
   "outputs": [],
   "source": [
    "# Prepare Conversation Sequences with Context\n",
    "grouped_conversations = df.groupby('Conversation ID')\n",
    "conversation_sequences = []\n",
    "\n",
    "for _, group in grouped_conversations:\n",
    "    group = group.sort_values(by='Turn ID')  # Sort by 'Turn ID' to maintain conversation flow\n",
    "    conv_sequence = ['<CONV_START>']  # Start of conversation\n",
    "    for _, row in group.iterrows():\n",
    "        conv_sequence.append(row['cleaned_text'])  # Add each cleaned text\n",
    "    conv_sequence.append('<CONV_END>')  # End of conversation\n",
    "    conversation_sequences.append(' '.join(conv_sequence))  # Combine conversation into one sequence\n",
    "\n",
    "# Step 2: Initialize the tokenizer, add special tokens, and fit on the updated conversation sequences\n",
    "tokenizer = Tokenizer()\n",
    "tokenizer.fit_on_texts(conversation_sequences)  # Fit on sequences with special tokens\n",
    "\n",
    "# Convert conversation sequences to integer sequences\n",
    "sequences = tokenizer.texts_to_sequences(conversation_sequences)\n"
   ]
  },
  {
   "cell_type": "markdown",
   "metadata": {
    "id": "q801FSKL-NB9"
   },
   "source": [
    "## **Sequence Preparation and Padding**<a id='Sequence_Preparation_and_Padding'></a>\n",
    "[Contents](#Contents)\n",
    "\n",
    "In here, we'll be defining a maximum sequence length of `54 words` (based on the `90th percentile` from the earlier analysis), to ensure that input sequences are of uniform length.\n",
    "\n",
    "* **Padding Sequences:** The pad_sequences function pads shorter sequences with zeros to make sure all input sequences are of the same length.\n",
    "* **Vocabulary Size:** The vocabulary size is calculated based on the tokenizer, which is used later for embedding layers.\n",
    "* **Creating Input Sequences:** It generates input sequences and their corresponding target words by iterating over the padded sequences. This prepares the data for a language model where each input sequence will be used to predict the next word.\n",
    "* **Final Padding:** Input sequences are padded again to the maximum length, and target words are converted into a NumPy array for model training.\n",
    "\n",
    "This ensures consistency in the data, making it easier for the model to process."
   ]
  },
  {
   "cell_type": "code",
   "execution_count": 18,
   "metadata": {
    "colab": {
     "base_uri": "https://localhost:8080/"
    },
    "id": "V69W9KVT706V",
    "outputId": "7ad57168-8fbd-4592-9307-c55a1928ab21"
   },
   "outputs": [
    {
     "name": "stdout",
     "output_type": "stream",
     "text": [
      "Max sequence length: 54\n"
     ]
    }
   ],
   "source": [
    "# Define a reasonable max sequence length (based on the 90th percentile):\n",
    "sequence_lengths = [len(seq) for seq in sequences]\n",
    "max_sequence_length = int(np.percentile(sequence_lengths, 90))\n",
    "print(\"Max sequence length:\", max_sequence_length)"
   ]
  },
  {
   "cell_type": "code",
   "execution_count": 19,
   "metadata": {
    "id": "o4uSVaQrTwLk"
   },
   "outputs": [],
   "source": [
    "# Define a reasonable max sequence length (based on the 90th percentile):\n",
    "max_sequence_length = 54\n",
    "\n",
    "# Pad sequences to ensure uniform input length:\n",
    "padded_sequences = pad_sequences(sequences, maxlen=max_sequence_length, padding='post', truncating='post')\n",
    "\n",
    "# Define your vocabulary size for embedding layer:\n",
    "vocab_size = len(tokenizer.word_index) + 1"
   ]
  },
  {
   "cell_type": "code",
   "execution_count": 20,
   "metadata": {
    "id": "zvgeihfRTyQR"
   },
   "outputs": [],
   "source": [
    "# Create input sequences and corresponding target words:\n",
    "input_sequences = []\n",
    "target_words = []\n",
    "\n",
    "for seq in padded_sequences:\n",
    "    for i in range(1, len(seq)):\n",
    "        input_sequences.append(seq[:i])\n",
    "        target_words.append(seq[i])\n",
    "\n",
    "# Pad input sequences to uniform length:\n",
    "input_sequences = pad_sequences(input_sequences, maxlen=max_sequence_length, padding='post')\n",
    "\n",
    "# Convert target words to numpy array:\n",
    "target_words = np.array(target_words)"
   ]
  },
  {
   "cell_type": "markdown",
   "metadata": {
    "id": "vgrC7fwq-RB_"
   },
   "source": [
    "## **Splitting Data into Training and Validation Sets**<a id='Splitting_Data_into_Training_and_Validation_Sets'></a>\n",
    "[Contents](#Contents)\n",
    "\n",
    "In here, we'll be splitting the input_sequences and target_words into training and validation datasets. Using the train_test_split function:\n",
    "\n",
    "* **Training Set:** `80%` of the data (train_inputs, train_targets) will be used to train the model.\n",
    "* **Validation Set:** `20%` of the data (val_inputs, val_targets) will be reserved to validate the model’s performance during training.\n",
    "\n",
    "This step is crucial to evaluate how well the model generalizes to unseen data."
   ]
  },
  {
   "cell_type": "code",
   "execution_count": 21,
   "metadata": {
    "id": "XRhICfWPTzrb"
   },
   "outputs": [],
   "source": [
    "# Split input_sequences and target_words into training and validation sets:\n",
    "from sklearn.model_selection import train_test_split\n",
    "train_inputs, val_inputs, train_targets, val_targets = train_test_split(\n",
    "    input_sequences, target_words, test_size=0.2, random_state=42)"
   ]
  },
  {
   "cell_type": "markdown",
   "metadata": {
    "id": "Lu8nB2yt-TvV"
   },
   "source": [
    "## **Data Generator for Efficient Batch Processing**<a id='Data_Generator_for_Efficient_Batch_Processing'></a>\n",
    "[Contents](#Contents)\n",
    "\n",
    "DataGenerator class was designed to generate batches of data for training and validation in an efficient manner, particularly useful when working with large datasets.\n",
    "\n",
    "* **Initialization** (`__init__`): It takes the input sequences, target words, batch size, and maximum sequence length as inputs and stores them for batch generation.\n",
    "* **Length** (`__len__`): This method calculates the total number of batches by dividing the total input data by the batch size.\n",
    "* **Get Item** (`__getitem__`): This method retrieves a specific batch of data (input sequences and target words) by slicing the dataset based on the batch size. It returns the data in NumPy array format, which is necessary for model training.\n",
    "\n",
    "The **train_gen** and **val_gen** objects are instances of this generator, created for the training and validation sets with a batch size of `64`, allowing the model to process data in small chunks rather than all at once. This approach helps to optimize memory usage and speed up training."
   ]
  },
  {
   "cell_type": "code",
   "execution_count": 22,
   "metadata": {
    "id": "wgEhvdNvUVSZ"
   },
   "outputs": [],
   "source": [
    "class DataGenerator(Sequence):\n",
    "    def __init__(self, input_sequences_resampled, target_words_resampled, batch_size, max_len):\n",
    "        self.input_sequences = input_sequences\n",
    "        self.target_words = target_words\n",
    "        self.batch_size = batch_size\n",
    "        self.max_len = max_len\n",
    "\n",
    "    def __len__(self):\n",
    "        # Number of batches per epoch\n",
    "        return int(np.floor(len(self.input_sequences) / self.batch_size))\n",
    "\n",
    "    def __getitem__(self, index):\n",
    "        # Generate one batch of data\n",
    "        batch_inputs = self.input_sequences[index * self.batch_size:(index + 1) * self.batch_size]\n",
    "        batch_targets = self.target_words[index * self.batch_size:(index + 1) * self.batch_size]\n",
    "\n",
    "        # Ensure inputs are returned as arrays\n",
    "        batch_inputs = np.array(batch_inputs)\n",
    "        batch_targets = np.array(batch_targets)\n",
    "\n",
    "        return batch_inputs, batch_targets\n"
   ]
  },
  {
   "cell_type": "code",
   "execution_count": 23,
   "metadata": {
    "id": "wwMBuaTkUNMB"
   },
   "outputs": [],
   "source": [
    "# Batch size:\n",
    "batch_size = 64\n",
    "\n",
    "# Create data generators for training and validation:\n",
    "train_gen = DataGenerator(train_inputs, train_targets, batch_size, max_sequence_length)\n",
    "val_gen = DataGenerator(val_inputs, val_targets, batch_size, max_sequence_length)"
   ]
  },
  {
   "cell_type": "markdown",
   "metadata": {
    "id": "dHwo5OqR_O9W"
   },
   "source": [
    "## **LSTM Architecture with Attention Mechanism** <a id='LSTM_Architecture_with_Attention_Mechanism'></a>  \n",
    "[Contents](#Contents)\n",
    "\n",
    "This section outlines an improved sequential model designed for text sequence prediction, optimized for handling tasks like conversational agents. The architecture includes an **Attention Mechanism** to enhance learning and context awareness, along with pre-trained **GloVe embeddings** for better word representation.\n",
    "\n",
    "* **Embedding Layer**: Transforms input words (represented as integers) into **300-dimensional dense vectors** using **pre-trained GloVe embeddings**. These embeddings provide the model with a better initial understanding of word meanings, boosting performance on the conversational task. The input shape is determined by the vocabulary size and the maximum sequence length.\n",
    "\n",
    "* **Bidirectional LSTM Layer**: A bidirectional LSTM layer with **256 units** is used to capture context from both the forward and backward directions of the input sequence. The `return_sequences=True` parameter enables stacking of LSTM layers. A **dropout rate of 30%** is applied to reduce overfitting.\n",
    "\n",
    "* **Attention Layer**: An **Attention Mechanism** is introduced to allow the model to focus on the most relevant parts of the input sequence, improving its ability to understand the nuances of conversation. The attention layer weighs the importance of different words in the input sequence, helping the model make more accurate predictions.\n",
    "\n",
    "* **Second LSTM Layer**: This additional LSTM layer, with **128 units**, further processes the output from the attention layer. Another **30% dropout** is applied for regularization, followed by **batch normalization** to stabilize the training process.\n",
    "\n",
    "* **Dense Layer**: A fully connected layer with **64 units** and **ReLU activation** is included to learn complex features from the LSTM outputs before making predictions.\n",
    "\n",
    "* **Output Layer**: The output layer, using **softmax activation**, generates a probability distribution over the entire vocabulary, allowing the model to predict the next word in the sequence.\n",
    "\n",
    "* **Model Compilation**: The model is compiled with the Adam optimizer and **sparse categorical crossentropy** as the loss function, suitable for multi-class classification tasks like next-word prediction. **Gradient clipping** (with `clipnorm=1.0`) is applied to prevent exploding gradients and ensure stable training. **Accuracy** is used as the evaluation metric.\n",
    "\n",
    "* **ReduceLROnPlateau:** To ensure efficient training, **ReduceLROnPlateau** is applied to adjust the learning rate when the validation loss plateaus. When the validation loss stops improving for 3 consecutive epochs, the learning rate is reduced by a factor of 0.2 (i.e., it will decrease by 20%). This allows the model to fine-tune and converge better towards optimal solutions. The minimum learning rate is set to 0.0001.\n",
    "\n",
    "* **Early Stopping**: To prevent overfitting, early stopping is applied, monitoring validation loss. If the validation loss doesn’t improve for **3 consecutive epochs**, training stops, and the best model weights are restored.\n",
    "\n",
    "* **Training the Model**: The model is trained on the data generator (`train_gen`) for **15 epochs** with early stopping, using a validation data generator (`val_gen`) to monitor its performance. **Batch normalization** after LSTM layers ensures faster convergence and more stable training.\n",
    "\n",
    "* **Summary of Improvements**:\n",
    "  \n",
    "- **Attention Mechanism** helps the model focus on key parts of the conversation, improving prediction quality.\n",
    "- **Pre-trained GloVe embeddings** give the model a better starting point for understanding words.\n",
    "- **Gradient Clipping** prevents exploding gradients, ensuring smoother and more reliable training.\n",
    "- **Batch Normalization** and **Dropout** help improve training stability and reduce overfitting.\n",
    "\n",
    "This architecture is ideal for tasks requiring sequence prediction, such as building a conversational chatbot or other natural language processing applications.\n"
   ]
  },
  {
   "cell_type": "code",
   "execution_count": 24,
   "metadata": {
    "id": "AJTJnjZyU_fa"
   },
   "outputs": [],
   "source": [
    "# Define Attention Layer:\n",
    "class AttentionLayer(tf.keras.layers.Layer):\n",
    "    def __init__(self, **kwargs):\n",
    "        super(AttentionLayer, self).__init__(**kwargs)\n",
    "\n",
    "    def build(self, input_shape):\n",
    "        self.W = self.add_weight(shape=(input_shape[-1], input_shape[-1]),\n",
    "                                 initializer='glorot_uniform',\n",
    "                                 trainable=True)\n",
    "        self.b = self.add_weight(shape=(input_shape[-1],),\n",
    "                                 initializer='zeros',\n",
    "                                 trainable=True)\n",
    "        self.u = self.add_weight(shape=(input_shape[-1],),\n",
    "                                 initializer='glorot_uniform',\n",
    "                                 trainable=True)\n",
    "        super(AttentionLayer, self).build(input_shape)\n",
    "\n",
    "    def call(self, x):\n",
    "        u = tf.tanh(tf.tensordot(x, self.W, axes=1) + self.b)\n",
    "        a = tf.nn.softmax(tf.tensordot(u, self.u, axes=1), axis=1)\n",
    "        output = tf.reduce_sum(x * tf.expand_dims(a, -1), 1)\n",
    "        return output\n",
    "\n",
    "# Load GloVe embeddings:\n",
    "def load_glove_embeddings(tokenizer, embedding_dim=300):\n",
    "    embeddings_index = {}\n",
    "    with open('/content/drive/My Drive/USD-AAI/glove.6B.300d.txt', encoding='utf-8') as f:\n",
    "        for line in f:\n",
    "            values = line.split()\n",
    "            word = values[0]\n",
    "            coefs = np.asarray(values[1:], dtype='float32')\n",
    "            embeddings_index[word] = coefs\n",
    "\n",
    "    word_index = tokenizer.word_index\n",
    "    embedding_matrix = np.zeros((len(word_index) + 1, embedding_dim))\n",
    "    for word, i in word_index.items():\n",
    "        embedding_vector = embeddings_index.get(word)\n",
    "        if embedding_vector is not None:\n",
    "            embedding_matrix[i] = embedding_vector\n",
    "\n",
    "    return embedding_matrix"
   ]
  },
  {
   "cell_type": "code",
   "execution_count": 26,
   "metadata": {
    "id": "69klg53JUXeB"
   },
   "outputs": [],
   "source": [
    "\n",
    "embedding_matrix = load_glove_embeddings(tokenizer)\n",
    "\n",
    "# Define the model architecture:\n",
    "embedding_dim = 300\n",
    "vocab_size = embedding_matrix.shape[0]\n",
    "max_sequence_length = 54\n",
    "\n",
    "model = Sequential()\n",
    "\n",
    "# Embedding Layer (pre-trained)\n",
    "model.add(Embedding(input_dim=vocab_size, output_dim=embedding_dim,\n",
    "                    input_length=max_sequence_length,\n",
    "                    weights=[embedding_matrix], trainable=False))\n",
    "\n",
    "# Bidirectional LSTM Layer with 256 units:\n",
    "model.add(Bidirectional(LSTM(256, return_sequences=True)))\n",
    "model.add(Dropout(0.3))\n",
    "model.add(BatchNormalization())  # Batch Normalization\n",
    "\n",
    "\n",
    "# Add Attention Layer:\n",
    "model.add(AttentionLayer())  # Attention Mechanism\n",
    "\n",
    "# Reshape the output of the AttentionLayer to be 3D before feeding to LSTM:\n",
    "model.add(tf.keras.layers.Reshape((-1, 1))) # Reshape to (batch_size, features, 1)\n",
    "\n",
    "# Second LSTM Layer:\n",
    "model.add(LSTM(128))\n",
    "model.add(Dropout(0.3))\n",
    "model.add(BatchNormalization())\n",
    "\n",
    "# Dense Layer:\n",
    "model.add(Dense(64, activation='relu'))\n",
    "\n",
    "# Output Layer:\n",
    "model.add(Dense(vocab_size, activation='softmax'))\n",
    "\n",
    "# Compile the model with Gradient Clipping:\n",
    "optimizer = Adam(learning_rate=0.001, clipnorm=1.0)  # Gradient clipping\n",
    "\n",
    "# Define the ReduceLROnPlateau callback\n",
    "reduce_lr = ReduceLROnPlateau(monitor='val_loss', factor=0.2, patience=3, min_lr=0.0001)\n",
    "\n",
    "model.compile(optimizer=optimizer,\n",
    "              loss='sparse_categorical_crossentropy',\n",
    "              metrics=['accuracy'])\n",
    "\n",
    "\n"
   ]
  },
  {
   "cell_type": "code",
   "execution_count": 28,
   "metadata": {
    "colab": {
     "base_uri": "https://localhost:8080/"
    },
    "id": "YTBIcPbkVTbm",
    "outputId": "2e633593-28c6-4a61-ed62-01d896b4ad96"
   },
   "outputs": [
    {
     "name": "stdout",
     "output_type": "stream",
     "text": [
      "Epoch 1/20\n",
      "\u001b[1m67734/67734\u001b[0m \u001b[32m━━━━━━━━━━━━━━━━━━━━\u001b[0m\u001b[37m\u001b[0m \u001b[1m2760s\u001b[0m 41ms/step - accuracy: 0.5881 - loss: 2.5829 - val_accuracy: 0.6111 - val_loss: 2.3555\n",
      "Epoch 2/20\n",
      "\u001b[1m67734/67734\u001b[0m \u001b[32m━━━━━━━━━━━━━━━━━━━━\u001b[0m\u001b[37m\u001b[0m \u001b[1m2748s\u001b[0m 41ms/step - accuracy: 0.6192 - loss: 2.3175 - val_accuracy: 0.6103 - val_loss: 2.3524\n",
      "Epoch 3/20\n",
      "\u001b[1m67734/67734\u001b[0m \u001b[32m━━━━━━━━━━━━━━━━━━━━\u001b[0m\u001b[37m\u001b[0m \u001b[1m2752s\u001b[0m 41ms/step - accuracy: 0.6226 - loss: 2.2955 - val_accuracy: 0.6075 - val_loss: 2.3689\n",
      "Epoch 4/20\n",
      "\u001b[1m67734/67734\u001b[0m \u001b[32m━━━━━━━━━━━━━━━━━━━━\u001b[0m\u001b[37m\u001b[0m \u001b[1m2751s\u001b[0m 41ms/step - accuracy: 0.6241 - loss: 2.3150 - val_accuracy: 0.6066 - val_loss: 2.4069\n",
      "Epoch 5/20\n",
      "\u001b[1m67734/67734\u001b[0m \u001b[32m━━━━━━━━━━━━━━━━━━━━\u001b[0m\u001b[37m\u001b[0m \u001b[1m2770s\u001b[0m 41ms/step - accuracy: 0.6215 - loss: 2.3513 - val_accuracy: 0.6057 - val_loss: 2.4076\n"
     ]
    }
   ],
   "source": [
    "# Early Stopping\n",
    "early_stopping = EarlyStopping(monitor='val_loss', patience=3, restore_best_weights=True)\n",
    "\n",
    "# Train the model\n",
    "history = model.fit(train_gen, epochs=20, validation_data=val_gen, callbacks=[early_stopping])"
   ]
  },
  {
   "cell_type": "markdown",
   "metadata": {},
   "source": [
    "## **LSTM LOSS & Accuracy**<a id='LSTM_LOSS_Accuracy'></a>\n",
    "[Contents](#Contents)"
   ]
  },
  {
   "cell_type": "code",
   "execution_count": 29,
   "metadata": {
    "colab": {
     "base_uri": "https://localhost:8080/",
     "height": 410
    },
    "id": "D2yadXEV0wae",
    "outputId": "4729d596-2920-4e7b-9f17-441eee412f6c"
   },
   "outputs": [
    {
     "data": {
      "image/png": "[encoded data removed]",
      "text/plain": [
       "<Figure size 1200x400 with 2 Axes>"
      ]
     },
     "metadata": {},
     "output_type": "display_data"
    }
   ],
   "source": [
    "# Retrieve a list of accuracy and loss values from the training history:\n",
    "acc = history.history['accuracy']\n",
    "val_acc = history.history['val_accuracy']\n",
    "loss = history.history['loss']\n",
    "val_loss = history.history['val_loss']\n",
    "\n",
    "# Plot training & validation accuracy values:\n",
    "plt.figure(figsize=(12, 4))\n",
    "plt.subplot(1, 2, 1)\n",
    "plt.plot(acc, label='Training Accuracy')\n",
    "plt.plot(val_acc, label='Validation Accuracy')\n",
    "plt.title('Model Accuracy')\n",
    "plt.xlabel('Epochs')\n",
    "plt.ylabel('Accuracy')\n",
    "plt.legend()\n",
    "\n",
    "# Plot training & validation loss values:\n",
    "plt.subplot(1, 2, 2)\n",
    "plt.plot(loss, label='Training Loss')\n",
    "plt.plot(val_loss, label='Validation Loss')\n",
    "plt.title('Model Loss')\n",
    "plt.xlabel('Epochs')\n",
    "plt.ylabel('Loss')\n",
    "plt.legend()\n",
    "\n",
    "plt.show()\n"
   ]
  },
  {
   "cell_type": "markdown",
   "metadata": {
    "id": "iGcK_tqc1JBK"
   },
   "source": [
    "**Summary Highlights:**\n",
    "\n",
    "* **Training Accuracy:** Started at `58.81%` in the first epoch and increased steadily, reaching `62.15%` by the fifth epoch. This shows that the model is learning and improving its predictions on the training data.\n",
    "\n",
    "* **Validation Accuracy:** Although the training accuracy improved, the validation accuracy remained stable, fluctuating between `60.10`% and `60.57%`. This suggests that while the model learns the training data, its ability to generalize to unseen data is limited.\n",
    "\n",
    "* **Training Loss:** Decreased from `2.5829` to `2.3513`, indicating that the model's predictions on the training data are becoming more accurate with each epoch.\n",
    "\n",
    "* **Validation Loss:** Remained fairly stable, starting at `2.3555` and ending at `2.4076`. This suggests that the model may be struggling to improve its performance on the validation set, potentially indicating overfitting or insufficient capacity to generalize.\n",
    "\n",
    "* **Accuracy Gap:** A small gap between the training and validation accuracies (~`1.58%`), which could indicate mild overfitting. The model performs slightly better on the training set than on the validation set.\n",
    "\n",
    "**Key Observations:**\n",
    "\n",
    "* The **training accuracy** is improving, but the validation accuracy is relatively stable, suggesting that the model may not be learning new information beyond a certain point.\n",
    "* The **training loss** is reducing steadily, but the validation loss is not decreasing at the same rate, which could indicate the model's limitations in generalizing well to unseen data.\n",
    "* **Early Stopping** is a good safeguard here, as the model might not benefit significantly from further training beyond a certain point, as evidenced by the flattening validation performance."
   ]
  },
  {
   "cell_type": "markdown",
   "metadata": {
    "id": "ZeLhjl6h3t3M"
   },
   "source": [
    "## **Saving the Final Model**<a id='Saving_the_Final_Model'></a>\r\n",
    "[Contents](#Contents)\n",
    "\n"
   ]
  },
  {
   "cell_type": "code",
   "execution_count": 30,
   "metadata": {
    "colab": {
     "base_uri": "https://localhost:8080/"
    },
    "id": "McKn9OGl38ME",
    "outputId": "bc7da0d7-ca23-495c-986c-1b6c1b177062"
   },
   "outputs": [
    {
     "name": "stderr",
     "output_type": "stream",
     "text": [
      "WARNING:absl:You are saving your model as an HDF5 file via `model.save()` or `keras.saving.save_model(model)`. This file format is considered legacy. We recommend using instead the native Keras format, e.g. `model.save('my_model.keras')` or `keras.saving.save_model(model, 'my_model.keras')`. \n"
     ]
    }
   ],
   "source": [
    "# Save the entire model to a HDF5 file\n",
    "model.save('lstm_w_attention_gloVe_model.h5')"
   ]
  },
  {
   "cell_type": "code",
   "execution_count": 31,
   "metadata": {
    "id": "HlSrqAiC4CY3"
   },
   "outputs": [],
   "source": [
    "# Save the model in the native Keras format\n",
    "model.save('lstm_w_attention_gloVe_model.keras')"
   ]
  },
  {
   "cell_type": "code",
   "execution_count": 32,
   "metadata": {
    "colab": {
     "base_uri": "https://localhost:8080/"
    },
    "id": "ejrzY5iD4Ewi",
    "outputId": "818afaf1-de25-489b-fec6-7773e6894976"
   },
   "outputs": [
    {
     "data": {
      "text/plain": [
       "['tokenizer.pkl']"
      ]
     },
     "execution_count": 32,
     "metadata": {},
     "output_type": "execute_result"
    }
   ],
   "source": [
    "import joblib\n",
    "# Saving the tokenizer\n",
    "joblib.dump(tokenizer, 'tokenizer.pkl')"
   ]
  },
  {
   "cell_type": "markdown",
   "metadata": {
    "id": "PS3Qt9yC6JH8"
   },
   "source": [
    "## **Human-based Evaluation**<a id='Human_based_Evaluation'></a>\r\n",
    "[Contents](#Contents)"
   ]
  },
  {
   "cell_type": "code",
   "execution_count": 36,
   "metadata": {
    "colab": {
     "base_uri": "https://localhost:8080/"
    },
    "id": "0jCYCMph47NE",
    "outputId": "3b77c3df-dd5d-4908-9abd-bd81e043e9ec"
   },
   "outputs": [
    {
     "name": "stderr",
     "output_type": "stream",
     "text": [
      "WARNING:absl:Compiled the loaded model, but the compiled metrics have yet to be built. `model.compile_metrics` will be empty until you train or evaluate the model.\n"
     ]
    }
   ],
   "source": [
    "from tensorflow.keras.models import load_model\n",
    "import joblib\n",
    "\n",
    "# Load the model\n",
    "model = load_model('lstm_w_attention_gloVe_model.h5', custom_objects={'AttentionLayer': AttentionLayer})\n",
    "\n",
    "# Load the tokenizer\n",
    "tokenizer = joblib.load('tokenizer.pkl')"
   ]
  },
  {
   "cell_type": "code",
   "execution_count": 37,
   "metadata": {
    "id": "w_2jmz3647P-"
   },
   "outputs": [],
   "source": [
    "def prepare_input(input_text, tokenizer, max_sequence_length):\n",
    "    \"\"\"Prepares the user's input for the model.\"\"\"\n",
    "    input_sequence = tokenizer.texts_to_sequences([input_text])\n",
    "    input_sequence = pad_sequences(input_sequence, maxlen=max_sequence_length, padding='post')\n",
    "    return input_sequence"
   ]
  },
  {
   "cell_type": "code",
   "execution_count": 38,
   "metadata": {
    "id": "_DeDl8am47S5"
   },
   "outputs": [],
   "source": [
    "def generate_response(model, tokenizer, input_sequence, max_sequence_length):\n",
    "    \"\"\"Generates a response from the model.\"\"\"\n",
    "    prediction = model.predict(input_sequence)\n",
    "    predicted_index = np.argmax(prediction, axis=1)[0]\n",
    "    response = tokenizer.index_word.get(predicted_index, '<unknown>')\n",
    "    return response"
   ]
  },
  {
   "cell_type": "code",
   "execution_count": 44,
   "metadata": {
    "colab": {
     "base_uri": "https://localhost:8080/"
    },
    "id": "vzUpWvz647V8",
    "outputId": "0144a905-b093-471c-d424-0c5499871d39"
   },
   "outputs": [
    {
     "name": "stdout",
     "output_type": "stream",
     "text": [
      "You: hi\n",
      "\u001b[1m1/1\u001b[0m \u001b[32m━━━━━━━━━━━━━━━━━━━━\u001b[0m\u001b[37m\u001b[0m \u001b[1m0s\u001b[0m 32ms/step\n",
      "Bot: start\n",
      "You: how are you?\n",
      "\u001b[1m1/1\u001b[0m \u001b[32m━━━━━━━━━━━━━━━━━━━━\u001b[0m\u001b[37m\u001b[0m \u001b[1m0s\u001b[0m 30ms/step\n",
      "Bot: not\n",
      "You: what's your name?\n",
      "\u001b[1m1/1\u001b[0m \u001b[32m━━━━━━━━━━━━━━━━━━━━\u001b[0m\u001b[37m\u001b[0m \u001b[1m0s\u001b[0m 28ms/step\n",
      "Bot: the\n",
      "You: do you have a name?\n",
      "\u001b[1m1/1\u001b[0m \u001b[32m━━━━━━━━━━━━━━━━━━━━\u001b[0m\u001b[37m\u001b[0m \u001b[1m0s\u001b[0m 28ms/step\n",
      "Bot: i\n",
      "You: give me a joke?\n",
      "\u001b[1m1/1\u001b[0m \u001b[32m━━━━━━━━━━━━━━━━━━━━\u001b[0m\u001b[37m\u001b[0m \u001b[1m0s\u001b[0m 32ms/step\n",
      "Bot: i\n",
      "You: exit\n"
     ]
    }
   ],
   "source": [
    "def chat_loop(model, tokenizer, max_sequence_length):\n",
    "    \"\"\"Creates an interactive chat loop.\"\"\"\n",
    "    while True:\n",
    "        user_input = input(\"You: \")\n",
    "        if user_input.lower() == 'exit':\n",
    "            break\n",
    "\n",
    "        input_sequence = prepare_input(user_input, tokenizer, max_sequence_length)\n",
    "        response = generate_response(model, tokenizer, input_sequence, max_sequence_length)\n",
    "        print(\"Bot:\", response)\n",
    "\n",
    "# Start the chat loop\n",
    "chat_loop(model, tokenizer, 54)"
   ]
  },
  {
   "cell_type": "markdown",
   "metadata": {
    "id": "AqRgKKmq7SJ7"
   },
   "source": [
    "**Summary Highlights:**\n",
    "\n",
    "Based on the human evaluation of the chit-chat bot, here are the key highlights:\n",
    "\n",
    "* **Limited Coherency:** The bot struggles to generate meaningful or coherent responses. For instance, when asked common questions like \"how are you?\" or \"what's your name?\" it replies with non-relevant terms such as \"not\" or \"the.\"\n",
    "\n",
    "* **Repetitive Responses:** The bot tends to provide similar responses like \"start\" or \"the,\" which suggests it may not fully understand the context of the conversation or have a rich enough response generation capability.\n",
    "\n",
    "* **Lack of Contextual Awareness:** It appears that the bot is not capturing the context of the dialogue or understanding follow-up questions. For example, it doesn’t respond well to prompts like \"give me a joke\" or \"best comedy movie?\"\n",
    "\n",
    "* **Possible Over-reliance on Specific Tokens:** The bot's responses seem heavily influenced by specific tokens like \"start\" or \"the,\" suggesting it might have an over-reliance on frequent tokens in the training data, potentially due to class imbalance.\n",
    "\n",
    "* **Improvement Needed in Decoding Strategy:** The model might benefit from improvements in the decoding strategy, such as beam search, to explore more meaningful word sequences and provide better answers."
   ]
  },
  {
   "cell_type": "markdown",
   "metadata": {
    "id": "yA7BgD788Glk"
   },
   "source": [
    "## **BLEU & ROUGE Evaluation**<a id='BLEU_ROUGE_Evaluation*'></a>\r\n",
    "[Contents](#Contents)"
   ]
  },
  {
   "cell_type": "code",
   "execution_count": 42,
   "metadata": {
    "id": "VCwqZJxS37pe"
   },
   "outputs": [],
   "source": [
    "import nltk\n",
    "from nltk.translate.bleu_score import sentence_bleu\n",
    "from rouge import Rouge"
   ]
  },
  {
   "cell_type": "code",
   "execution_count": 51,
   "metadata": {
    "id": "J7z9spLf9s5O"
   },
   "outputs": [],
   "source": [
    "def load_reference_responses(file_path):\n",
    "    \"\"\"Loads reference responses from a text file.\"\"\"\n",
    "    reference_responses = {}\n",
    "    with open(file_path, 'r') as f:\n",
    "        lines = f.readlines()\n",
    "        i = 0\n",
    "        while i < len(lines):\n",
    "            if lines[i].startswith(\"User Input:\"):\n",
    "                user_input = lines[i].split(\"User Input:\")[1].strip()\n",
    "                reference_response = lines[i + 1].split(\"Reference Response:\")[1].strip()\n",
    "                reference_responses[user_input] = reference_response\n",
    "                i += 3  # Skip the blank line and move to the next entry\n",
    "            else:\n",
    "                i += 1\n",
    "    return reference_responses"
   ]
  },
  {
   "cell_type": "code",
   "execution_count": 54,
   "metadata": {
    "id": "WS2V8P9z_hVd"
   },
   "outputs": [],
   "source": [
    "def calculate_bleu(reference, candidate):\n",
    "    \"\"\"Calculates BLEU score.\"\"\"\n",
    "    reference = [reference.split()]\n",
    "    candidate = candidate.split()\n",
    "    score = sentence_bleu(reference, candidate)  # Use default weights (1/4 for each n-gram)\n",
    "    return score\n",
    "\n",
    "def calculate_rouge(reference, candidate):\n",
    "    \"\"\"Calculates ROUGE scores.\"\"\"\n",
    "    rouge = Rouge()\n",
    "    scores = rouge.get_scores(candidate, reference)\n",
    "    return scores[0]  # Return the dictionary of scores"
   ]
  },
  {
   "cell_type": "code",
   "execution_count": 55,
   "metadata": {
    "id": "nr2ciY9E_qIx"
   },
   "outputs": [],
   "source": [
    "def prepare_input(input_text, tokenizer, max_sequence_length):\n",
    "    \"\"\"Prepares the user's input for the model.\"\"\"\n",
    "    input_sequence = tokenizer.texts_to_sequences([input_text])\n",
    "    input_sequence = pad_sequences(input_sequence, maxlen=max_sequence_length, padding='post')\n",
    "    return input_sequence\n",
    "\n",
    "def generate_response(model, tokenizer, input_sequence, max_sequence_length):\n",
    "    \"\"\"Generates a response from the model.\"\"\"\n",
    "    prediction = model.predict(input_sequence)\n",
    "    predicted_index = np.argmax(prediction, axis=1)[0]\n",
    "    response = tokenizer.index_word.get(predicted_index, '<unknown>')\n",
    "    return response"
   ]
  },
  {
   "cell_type": "code",
   "execution_count": 56,
   "metadata": {
    "id": "HnSZjG4o_63r"
   },
   "outputs": [],
   "source": [
    "def chat_loop(model, tokenizer, max_sequence_length):\n",
    "    \"\"\"Chat loop with evaluation.\"\"\"\n",
    "\n",
    "    #Load the reference data file once\n",
    "    reference_responses = load_reference_responses(\"/content/drive/My Drive/USD-AAI/reference_dataset.txt\")\n",
    "\n",
    "\n",
    "    while True:\n",
    "        user_input = input(\"You: \")\n",
    "        if user_input.lower() == 'exit':\n",
    "            break\n",
    "\n",
    "        input_sequence = prepare_input(user_input, tokenizer, max_sequence_length)\n",
    "        response = generate_response(model, tokenizer, input_sequence, max_sequence_length)\n",
    "        print(\"Bot:\", response)\n",
    "\n",
    "        # Get reference response for the current user input\n",
    "        if user_input in reference_responses:\n",
    "            reference_response = reference_responses[user_input]\n",
    "\n",
    "            # Evaluate the response\n",
    "            bleu_score = calculate_bleu(reference_response, response)\n",
    "            rouge_scores = calculate_rouge(reference_response, response)\n",
    "\n",
    "            print(f\"BLEU Score: {bleu_score}\")\n",
    "            print(f\"ROUGE Scores: {rouge_scores}\")\n",
    "        else:\n",
    "            print(\"No reference response found for this input.\")"
   ]
  },
  {
   "cell_type": "markdown",
   "metadata": {
    "id": "NguGYFe7DXFL"
   },
   "source": [
    "**Contents of reference_dataset.txt:**\n",
    "\n",
    "* User Input: Hello\n",
    "* Reference Response: Hi there! How can I help you today?\n",
    "\n",
    "* User Input: What is the weather like?\n",
    "* Reference Response: The weather is sunny and warm.\n",
    "\n",
    "* User Input: Tell me a joke.\n",
    "* Reference Response: Why don't scientists trust atoms? Because they make up\n",
    "everything!\n",
    "\n",
    "* User Input: Goodbye\n",
    "* Reference Response: See you later!"
   ]
  },
  {
   "cell_type": "code",
   "execution_count": 57,
   "metadata": {
    "colab": {
     "base_uri": "https://localhost:8080/"
    },
    "id": "1W2ZigwC-aJT",
    "outputId": "bc238e46-544b-46c2-b99d-883a3f2ce62f"
   },
   "outputs": [
    {
     "name": "stdout",
     "output_type": "stream",
     "text": [
      "You: Hello\n",
      "\u001b[1m1/1\u001b[0m \u001b[32m━━━━━━━━━━━━━━━━━━━━\u001b[0m\u001b[37m\u001b[0m \u001b[1m0s\u001b[0m 30ms/step\n",
      "Bot: the\n",
      "BLEU Score: 0\n",
      "ROUGE Scores: {'rouge-1': {'r': 0.0, 'p': 0.0, 'f': 0.0}, 'rouge-2': {'r': 0.0, 'p': 0.0, 'f': 0.0}, 'rouge-l': {'r': 0.0, 'p': 0.0, 'f': 0.0}}\n",
      "You: What is the weather like?\n",
      "\u001b[1m1/1\u001b[0m \u001b[32m━━━━━━━━━━━━━━━━━━━━\u001b[0m\u001b[37m\u001b[0m \u001b[1m0s\u001b[0m 30ms/step\n",
      "Bot: the\n",
      "BLEU Score: 0\n",
      "ROUGE Scores: {'rouge-1': {'r': 0.0, 'p': 0.0, 'f': 0.0}, 'rouge-2': {'r': 0.0, 'p': 0.0, 'f': 0.0}, 'rouge-l': {'r': 0.0, 'p': 0.0, 'f': 0.0}}\n",
      "You: Tell me a joke.\n",
      "\u001b[1m1/1\u001b[0m \u001b[32m━━━━━━━━━━━━━━━━━━━━\u001b[0m\u001b[37m\u001b[0m \u001b[1m0s\u001b[0m 28ms/step\n",
      "Bot: i\n",
      "BLEU Score: 0\n",
      "ROUGE Scores: {'rouge-1': {'r': 0.0, 'p': 0.0, 'f': 0.0}, 'rouge-2': {'r': 0.0, 'p': 0.0, 'f': 0.0}, 'rouge-l': {'r': 0.0, 'p': 0.0, 'f': 0.0}}\n",
      "You: Goodbye\n",
      "\u001b[1m1/1\u001b[0m \u001b[32m━━━━━━━━━━━━━━━━━━━━\u001b[0m\u001b[37m\u001b[0m \u001b[1m0s\u001b[0m 28ms/step\n",
      "Bot: start\n",
      "BLEU Score: 0\n",
      "ROUGE Scores: {'rouge-1': {'r': 0.0, 'p': 0.0, 'f': 0.0}, 'rouge-2': {'r': 0.0, 'p': 0.0, 'f': 0.0}, 'rouge-l': {'r': 0.0, 'p': 0.0, 'f': 0.0}}\n",
      "You: exit\n"
     ]
    }
   ],
   "source": [
    "# Start the chat loop with evaluation:\n",
    "chat_loop(model, tokenizer, max_sequence_length)"
   ]
  },
  {
   "cell_type": "markdown",
   "metadata": {
    "id": "KAo5HwPmEjJA"
   },
   "source": [
    "**Summary Highlights:**\n",
    "\n",
    "* **BLEU and ROUGE Scores:** The BLEU and ROUGE scores consistently show zero, indicating that the chatbot responses do not match the reference responses. \n",
    "\n",
    "* **Repetitive Responses:** The chatbot outputs repetitive responses like \"the\" and \"i,\" suggesting that the model may not be learning rich or diverse conversational patterns. This could be due to an imbalanced dataset, insufficient training, or issues with tokenization and vocabulary size."
   ]
  },
  {
   "cell_type": "code",
   "execution_count": null,
   "metadata": {
    "id": "y4hqze6W-59c"
   },
   "outputs": [],
   "source": []
  }
 ],
 "metadata": {
  "accelerator": "GPU",
  "colab": {
   "gpuType": "A100",
   "machine_shape": "hm",
   "provenance": []
  },
  "kernelspec": {
   "display_name": "Python 3 (ipykernel)",
   "language": "python",
   "name": "python3"
  },
  "language_info": {
   "codemirror_mode": {
    "name": "ipython",
    "version": 3
   },
   "file_extension": ".py",
   "mimetype": "text/x-python",
   "name": "python",
   "nbconvert_exporter": "python",
   "pygments_lexer": "ipython3",
   "version": "3.8.19"
  }
 },
 "nbformat": 4,
 "nbformat_minor": 4
}
