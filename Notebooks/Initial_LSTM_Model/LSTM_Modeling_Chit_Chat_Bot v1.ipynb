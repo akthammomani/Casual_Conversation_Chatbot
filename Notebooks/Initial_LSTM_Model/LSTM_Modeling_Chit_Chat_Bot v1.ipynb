{
 "cells": [
  {
   "cell_type": "markdown",
   "id": "8c270810-5118-4e4f-8cc3-9edb8bbd3eff",
   "metadata": {},
   "source": [
    "# **Modeling: LSTM (Long Short-Term Memory) Chit-Chat Bot**\n",
    "\n",
    "* **Group 8:** Aktham Almomani\n",
    "* **Course:** Natural Language Processing and GenAI (AAI-520-04) / University Of San Diego\n",
    "* **Semester:** Winter 2024"
   ]
  },
  {
   "cell_type": "markdown",
   "id": "090de2c5-f861-4862-b083-853abe3865e7",
   "metadata": {},
   "source": [
    "## **Contents**<a is='Contents'></a>\r\n",
    "* [Introduction](#Introduction)\r\n",
    "* [Setup and preliminaries](#Setup_and_preliminaries)\r\n",
    "  * [Import Libraries](#Import_libraries)\r\n",
    "* [Importing dataset](#Importing_dataset)\r\n",
    "* [Dataset Sampling](#Dataset_Sampling)\r\n",
    "* [Data Preparation - Assessing Conversation Length](#Data_Preparation_Assessing_Conversation_Length)\r\n",
    "* [Sequence Preparation and Padding](#Sequence_Preparation_and_Padding)\r\n",
    "* [Splitting Data into Training and Validation Sets](#Splitting_Data_into_Training_and_Validation_Sets)\r\n",
    "* [Data Generator for Efficient Batch Processing](#Data_Generator_for_Efficient_Batch_Processing)\r\n",
    "* [LSTM Architecture](#LSTM_Architecture)\r\n",
    "  * [LSTM Training](#LSTM_Training)\r\n",
    "  * [LSTM LOSS & Accuracy](#LSTM_LOSS_Accuracy)\r\n",
    "* [Saving The Final LSTM Model](#Saving_The_Final_LSTM_Model)"
   ]
  },
  {
   "cell_type": "markdown",
   "id": "a666096a-3ded-4a00-9638-17779d3a7769",
   "metadata": {},
   "source": [
    "## **Introduction**<a id='Introduction'></a>\n",
    "[Contents](#Contents)\n",
    "\n",
    "For this project, we selected **LSTM (Long Short-Term Memory)** as the final architecture for building our chatbot. `LSTM` is particularly well-suited for handling sequential data, such as conversations, due to its ability to retain information over long sequences and handle dependencies across time steps. This makes it an excellent choice for our chit-chat bot, where maintaining conversational context is crucial across multiple turns.\n",
    "\n",
    "**Why LSTM is a Good Choice:**\n",
    "\n",
    "* **Memory Retention:** Unlike traditional RNNs, LSTMs can remember long-term dependencies in a conversation, which is essential for context-sensitive responses.\n",
    "* **Handling Long Conversations:** LSTMs manage the vanishing gradient problem better than basic RNNs, allowing them to perform well with longer conversations where context from earlier exchanges matters.\n",
    "* **Efficiency:** LSTM’s cell states allow it to selectively forget or remember information, making it more efficient for training on sequence data.\n",
    "\n",
    "**LSTM vs. RNN:**\n",
    "\n",
    "* **RNN (Recurrent Neural Networks):** While RNNs are also used for sequence-based tasks, they have limitations due to the vanishing gradient problem, where older information tends to be lost during backpropagation, which can be detrimental to multi-turn conversations in a chatbot.\n",
    "\n",
    "* **LSTM:** Overcomes these issues by introducing gates (input, forget, and output gates) that allow it to control the flow of information through the network, retaining important parts of the conversation across longer sequences.\n",
    "\n",
    "Given these advantages, LSTM was chosen as the final architecture for our model, enabling the chatbot to handle conversational context and provide coherent multi-turn responses."
   ]
  },
  {
   "cell_type": "markdown",
   "id": "03758563-363b-4c5c-b730-5a8d85404ffb",
   "metadata": {},
   "source": [
    "## **Setup and preliminaries**<a id='Setup_and_preliminaries'></a>\n",
    "[Contents](#Contents)"
   ]
  },
  {
   "cell_type": "markdown",
   "id": "df6da783-d873-4526-bb93-54c29a08d23d",
   "metadata": {},
   "source": [
    "### **Import libraries**<a id='Import_libraries'></a>\n",
    "[Contents](#Contents)"
   ]
  },
  {
   "cell_type": "code",
   "execution_count": 1,
   "id": "b55288bc-310d-4fe2-b5fe-1b6fe852b8f0",
   "metadata": {},
   "outputs": [],
   "source": [
    "#Let's import the necessary packages:\n",
    "import json\n",
    "import re\n",
    "import pandas as pd\n",
    "from textblob import TextBlob\n",
    "import spacy\n",
    "import matplotlib.pyplot as plt\n",
    "import numpy as np\n",
    "from tqdm import tqdm\n",
    "tqdm.pandas() \n",
    "import random\n",
    "from transformers import GPT2Tokenizer\n",
    "from transformers import AdamW, Trainer, TrainingArguments\n",
    "import torch\n",
    "from torch.utils.data import DataLoader\n",
    "from transformers import GPT2LMHeadModel, TrainingArguments, Trainer, AdamW\n",
    "from peft import get_peft_model, LoraConfig, TaskType\n",
    "import peft\n",
    "from sklearn.model_selection import train_test_split\n",
    "import wandb\n",
    "from rouge_score import rouge_scorer\n",
    "import evaluate\n",
    "from keras.preprocessing.text import Tokenizer\n",
    "from keras.preprocessing.sequence import pad_sequences\n",
    "from keras.models import Sequential\n",
    "from keras.layers import Embedding, LSTM, Dense\n",
    "from keras.utils import to_categorical\n",
    "from tensorflow.keras.preprocessing.text import Tokenizer\n",
    "from tensorflow.keras.preprocessing.sequence import pad_sequences\n",
    "from tensorflow.keras.models import Sequential\n",
    "from tensorflow.keras.layers import Embedding, LSTM, Dense, Dropout, Bidirectional\n",
    "from tensorflow.keras.utils import Sequence\n",
    "from tensorflow.keras.callbacks import EarlyStopping\n",
    "\n",
    "\n",
    "pd.set_option('display.max_rows', None)\n",
    "pd.set_option('display.max_colwidth', 4000) # 100 means 100 characters in the col"
   ]
  },
  {
   "cell_type": "markdown",
   "id": "c0df55ed-1134-4527-9bb2-c465ed8fe4b4",
   "metadata": {},
   "source": [
    "## **Dataset Sampling**<a id='Dataset_Sampling'></a>\n",
    "[Contents](#Contents)\n",
    "\n",
    "Given hardware limitations and the size of our full dataset, we randomly selected `30%` of the dataset for training. This random sampling was done to ensure that the reduced dataset remained representative of the overall dataset's conversational diversity.\n",
    "\n",
    "By selecting `30%` of the data, we ensured that the training process was manageable while still maintaining the integrity of the dataset, as it includes conversations from all parts of the original dataset."
   ]
  },
  {
   "cell_type": "code",
   "execution_count": 2,
   "id": "ea85c04d-1ed1-4f21-b468-dcadde65c158",
   "metadata": {},
   "outputs": [],
   "source": [
    "df = pd.read_csv(\"cleaned_conversational_data_v1.csv\")"
   ]
  },
  {
   "cell_type": "code",
   "execution_count": 3,
   "id": "cce5424a-6de8-4342-9190-47a6c7266577",
   "metadata": {},
   "outputs": [
    {
     "data": {
      "text/html": [
       "<div>\n",
       "<style scoped>\n",
       "    .dataframe tbody tr th:only-of-type {\n",
       "        vertical-align: middle;\n",
       "    }\n",
       "\n",
       "    .dataframe tbody tr th {\n",
       "        vertical-align: top;\n",
       "    }\n",
       "\n",
       "    .dataframe thead th {\n",
       "        text-align: right;\n",
       "    }\n",
       "</style>\n",
       "<table border=\"1\" class=\"dataframe\">\n",
       "  <thead>\n",
       "    <tr style=\"text-align: right;\">\n",
       "      <th></th>\n",
       "      <th>Conversation ID</th>\n",
       "      <th>Turn ID</th>\n",
       "      <th>Text</th>\n",
       "      <th>cleaned_text</th>\n",
       "    </tr>\n",
       "  </thead>\n",
       "  <tbody>\n",
       "    <tr>\n",
       "      <th>0</th>\n",
       "      <td>1</td>\n",
       "      <td>1</td>\n",
       "      <td>Can we make this quick?  Roxanne Korrine and Andrew Barrett are having an incredibly horrendous public break- up on the quad.  Again.</td>\n",
       "      <td>can we make this quick Roxanne Korrine and Andrew Barrett are having an incredibly horrendous public break up on the quad again</td>\n",
       "    </tr>\n",
       "    <tr>\n",
       "      <th>1</th>\n",
       "      <td>1</td>\n",
       "      <td>2</td>\n",
       "      <td>Well, I thought we'd start with pronunciation, if that's okay with you.</td>\n",
       "      <td>well i thought we d start with pronunciation if that s okay with you</td>\n",
       "    </tr>\n",
       "    <tr>\n",
       "      <th>2</th>\n",
       "      <td>1</td>\n",
       "      <td>3</td>\n",
       "      <td>Not the hacking and gagging and spitting part.  Please.</td>\n",
       "      <td>not the hacking and gagging and spitting part please</td>\n",
       "    </tr>\n",
       "    <tr>\n",
       "      <th>3</th>\n",
       "      <td>1</td>\n",
       "      <td>4</td>\n",
       "      <td>Okay... then how 'bout we try out some French cuisine.  Saturday?  Night?</td>\n",
       "      <td>okay then how bout we try out some french cuisine saturday night</td>\n",
       "    </tr>\n",
       "    <tr>\n",
       "      <th>4</th>\n",
       "      <td>2</td>\n",
       "      <td>1</td>\n",
       "      <td>You're asking me out.  That's so cute. What's your name again?</td>\n",
       "      <td>you re asking me out that s so cute what s your name again</td>\n",
       "    </tr>\n",
       "  </tbody>\n",
       "</table>\n",
       "</div>"
      ],
      "text/plain": [
       "   Conversation ID  Turn ID  \\\n",
       "0                1        1   \n",
       "1                1        2   \n",
       "2                1        3   \n",
       "3                1        4   \n",
       "4                2        1   \n",
       "\n",
       "                                                                                                                                    Text  \\\n",
       "0  Can we make this quick?  Roxanne Korrine and Andrew Barrett are having an incredibly horrendous public break- up on the quad.  Again.   \n",
       "1                                                                Well, I thought we'd start with pronunciation, if that's okay with you.   \n",
       "2                                                                                Not the hacking and gagging and spitting part.  Please.   \n",
       "3                                                              Okay... then how 'bout we try out some French cuisine.  Saturday?  Night?   \n",
       "4                                                                         You're asking me out.  That's so cute. What's your name again?   \n",
       "\n",
       "                                                                                                                      cleaned_text  \n",
       "0  can we make this quick Roxanne Korrine and Andrew Barrett are having an incredibly horrendous public break up on the quad again  \n",
       "1                                                             well i thought we d start with pronunciation if that s okay with you  \n",
       "2                                                                             not the hacking and gagging and spitting part please  \n",
       "3                                                                 okay then how bout we try out some french cuisine saturday night  \n",
       "4                                                                       you re asking me out that s so cute what s your name again  "
      ]
     },
     "execution_count": 3,
     "metadata": {},
     "output_type": "execute_result"
    }
   ],
   "source": [
    "df.head()"
   ]
  },
  {
   "cell_type": "code",
   "execution_count": 4,
   "id": "8f22b0ac-8e72-4c8f-8b2c-0f425b85721c",
   "metadata": {},
   "outputs": [
    {
     "data": {
      "text/plain": [
       "(304713, 4)"
      ]
     },
     "execution_count": 4,
     "metadata": {},
     "output_type": "execute_result"
    }
   ],
   "source": [
    "df.shape"
   ]
  },
  {
   "cell_type": "code",
   "execution_count": 5,
   "id": "476ac1de-3e2e-4ea3-b70f-ad8362bc907e",
   "metadata": {},
   "outputs": [
    {
     "name": "stdout",
     "output_type": "stream",
     "text": [
      "<class 'pandas.core.frame.DataFrame'>\n",
      "RangeIndex: 304713 entries, 0 to 304712\n",
      "Data columns (total 4 columns):\n",
      " #   Column           Non-Null Count   Dtype \n",
      "---  ------           --------------   ----- \n",
      " 0   Conversation ID  304713 non-null  int64 \n",
      " 1   Turn ID          304713 non-null  int64 \n",
      " 2   Text             304446 non-null  object\n",
      " 3   cleaned_text     304276 non-null  object\n",
      "dtypes: int64(2), object(2)\n",
      "memory usage: 9.3+ MB\n"
     ]
    }
   ],
   "source": [
    "df.info()"
   ]
  },
  {
   "cell_type": "code",
   "execution_count": 6,
   "id": "2f97cd57-7c28-4824-a6bd-075a972d6fcd",
   "metadata": {},
   "outputs": [
    {
     "name": "stdout",
     "output_type": "stream",
     "text": [
      "Number of null values in 'cleaned_text': 437\n"
     ]
    }
   ],
   "source": [
    "# Check for null values in the 'cleaned_text' column\n",
    "null_values = df['cleaned_text'].isnull().sum()\n",
    "\n",
    "print(f\"Number of null values in 'cleaned_text': {null_values}\")"
   ]
  },
  {
   "cell_type": "code",
   "execution_count": 7,
   "id": "88635713-4e19-4281-b577-0637ce08e306",
   "metadata": {},
   "outputs": [],
   "source": [
    "df = df.dropna(subset=['cleaned_text'])"
   ]
  },
  {
   "cell_type": "code",
   "execution_count": 8,
   "id": "f5be09de-6d79-4b2f-9220-488a625cd848",
   "metadata": {},
   "outputs": [
    {
     "name": "stdout",
     "output_type": "stream",
     "text": [
      "<class 'pandas.core.frame.DataFrame'>\n",
      "Index: 304276 entries, 0 to 304712\n",
      "Data columns (total 4 columns):\n",
      " #   Column           Non-Null Count   Dtype \n",
      "---  ------           --------------   ----- \n",
      " 0   Conversation ID  304276 non-null  int64 \n",
      " 1   Turn ID          304276 non-null  int64 \n",
      " 2   Text             304276 non-null  object\n",
      " 3   cleaned_text     304276 non-null  object\n",
      "dtypes: int64(2), object(2)\n",
      "memory usage: 11.6+ MB\n"
     ]
    }
   ],
   "source": [
    "df.info()"
   ]
  },
  {
   "cell_type": "code",
   "execution_count": 9,
   "id": "f4ea7cb6-2b3b-4dc0-a39c-4f9280784c39",
   "metadata": {},
   "outputs": [
    {
     "data": {
      "text/plain": [
       "83038"
      ]
     },
     "execution_count": 9,
     "metadata": {},
     "output_type": "execute_result"
    }
   ],
   "source": [
    "# Show the unique count of 'Conversation ID'\n",
    "df['Conversation ID'].nunique()\n",
    "\n",
    "\n"
   ]
  },
  {
   "cell_type": "code",
   "execution_count": 13,
   "id": "d41f5914-fdfe-4235-8e03-cd664a8b615b",
   "metadata": {},
   "outputs": [],
   "source": [
    "# Down-sample 50% of the data to reduce the dataset size\n",
    "sampled_data = df.sample(frac=0.3, random_state=42)"
   ]
  },
  {
   "cell_type": "code",
   "execution_count": 14,
   "id": "7518f688-78d5-4d79-aa41-cd46a49cc493",
   "metadata": {},
   "outputs": [
    {
     "data": {
      "text/plain": [
       "54307"
      ]
     },
     "execution_count": 14,
     "metadata": {},
     "output_type": "execute_result"
    }
   ],
   "source": [
    "# Show the unique count of 'Conversation ID'\n",
    "sampled_data['Conversation ID'].nunique()"
   ]
  },
  {
   "cell_type": "code",
   "execution_count": 15,
   "id": "efcc4373-b9b9-4907-bdf3-9af408fb1541",
   "metadata": {},
   "outputs": [
    {
     "data": {
      "text/plain": [
       "(91283, 4)"
      ]
     },
     "execution_count": 15,
     "metadata": {},
     "output_type": "execute_result"
    }
   ],
   "source": [
    "sampled_data.shape"
   ]
  },
  {
   "cell_type": "markdown",
   "id": "46856bfd-2a42-4596-b311-cf2c6e123e10",
   "metadata": {},
   "source": [
    "## **Data Preparation - Assessing Conversation Length**<a id='Data_Preparation_Assessing_Conversation_Length'></a>\n",
    "[Contents](#Contents)\n",
    "\n",
    "Understanding the length of the conversations in our dataset was crucial for designing the LSTM architecture. We assessed the distribution of conversation lengths to ensure that the model's input size was appropriate.\n",
    "\n",
    "Based on this distribution, we chose a maximum sequence length of 24 for the model, as it covers the vast majority of conversations in the dataset without excessively truncating or padding sequences."
   ]
  },
  {
   "cell_type": "code",
   "execution_count": 16,
   "id": "9f338c3a-c2c9-4db1-928e-5f89d0ba4c7d",
   "metadata": {},
   "outputs": [],
   "source": [
    "# Extract the cleaned text column for processing\n",
    "conversations = sampled_data['cleaned_text'].astype(str).tolist()\n",
    "\n",
    "# Initialize the tokenizer and fit on your conversations\n",
    "tokenizer = Tokenizer()\n",
    "tokenizer.fit_on_texts(conversations)\n",
    "\n",
    "# Convert conversations to sequences of integers\n",
    "sequences = tokenizer.texts_to_sequences(conversations)\n",
    "\n"
   ]
  },
  {
   "cell_type": "code",
   "execution_count": 17,
   "id": "51147556-aac1-474a-9b58-6fed5101ef38",
   "metadata": {},
   "outputs": [
    {
     "name": "stdout",
     "output_type": "stream",
     "text": [
      "Max conversation length: 50\n",
      "Mean conversation length: 10.82073332383905\n",
      "Median conversation length: 7.0\n",
      "90th percentile: 24.0\n"
     ]
    }
   ],
   "source": [
    "# Calculate the length of each conversation (number of words)\n",
    "conversation_lengths = [len(seq) for seq in sequences]  # 'sequences' is the tokenized version of the 'cleaned_text'\n",
    "\n",
    "# Check basic statistics (min, max, mean, etc.)\n",
    "import numpy as np\n",
    "print(f\"Max conversation length: {np.max(conversation_lengths)}\")\n",
    "print(f\"Mean conversation length: {np.mean(conversation_lengths)}\")\n",
    "print(f\"Median conversation length: {np.median(conversation_lengths)}\")\n",
    "print(f\"90th percentile: {np.percentile(conversation_lengths, 90)}\")\n"
   ]
  },
  {
   "cell_type": "code",
   "execution_count": 18,
   "id": "0e5280c6-cf4d-4bf2-ae2f-9b35ba7a1ed4",
   "metadata": {},
   "outputs": [
    {
     "data": {
      "image/png": "[encoded data removed]",
      "text/plain": [
       "<Figure size 640x480 with 1 Axes>"
      ]
     },
     "metadata": {},
     "output_type": "display_data"
    }
   ],
   "source": [
    "# Plot the histogram of conversation lengths\n",
    "plt.hist(conversation_lengths, bins=50, color='blue', edgecolor='black')\n",
    "plt.title('Distribution of Conversation Lengths')\n",
    "plt.xlabel('Number of Words')\n",
    "plt.ylabel('Frequency')\n",
    "plt.show()"
   ]
  },
  {
   "cell_type": "markdown",
   "id": "d04d3ae1-d07e-4572-86a1-2b37677ee03e",
   "metadata": {},
   "source": [
    "**Summary Highlights:**\n",
    "\n",
    "* **Max conversation length:** `50 words`.\n",
    "* **Mean conversation length:** `10.82 words`.\n",
    "* **Median conversation length:** `7 words`.\n",
    "* **90th percentile:** `24 words`.\n",
    "\n",
    "The histogram shows a right-skewed distribution of conversation lengths, with most conversations containing fewer than `20 words`. The highest frequency occurs at around `6-8 words`, and there's a noticeable spike at `50 words`, indicating some conversations reach the maximum length.\n",
    "\n",
    "**Recommendation:** Based on the `90th percentile`, it's recommended to use a sequence length of `24 words` for modeling purposes. This length will cover `90%` of the conversations, ensuring that the model captures the majority of the data while maintaining computational efficiency.\n",
    "\n"
   ]
  },
  {
   "cell_type": "markdown",
   "id": "9c3f2ad4-e2d2-4e8d-919d-05dbee57725f",
   "metadata": {},
   "source": [
    "## **Sequence Preparation and Padding**<a id='Sequence_Preparation_and_Padding'></a>\n",
    "[Contents](#Contents)\n",
    "\n",
    "In here, we'll be defining a maximum sequence length of `24 words` (based on the `95th percentile` from the earlier analysis), to ensure that input sequences are of uniform length.\n",
    "\n",
    "* **Padding Sequences:** The pad_sequences function pads shorter sequences with zeros to make sure all input sequences are of the same length.\n",
    "* **Vocabulary Size:** The vocabulary size is calculated based on the tokenizer, which is used later for embedding layers.\n",
    "* **Creating Input Sequences:** It generates input sequences and their corresponding target words by iterating over the padded sequences. This prepares the data for a language model where each input sequence will be used to predict the next word.\n",
    "* **Final Padding:** Input sequences are padded again to the maximum length, and target words are converted into a NumPy array for model training.\n",
    "\n",
    "This ensures consistency in the data, making it easier for the model to process."
   ]
  },
  {
   "cell_type": "code",
   "execution_count": 19,
   "id": "4ef7f188-c910-4af8-8fce-06c4ab96f2a0",
   "metadata": {},
   "outputs": [],
   "source": [
    "# Define a reasonable max sequence length (based on the 95th percentile, for example)\n",
    "max_sequence_length = 24  # this based on the distribution of conversation lengths\n",
    "\n",
    "# Pad sequences to ensure uniform input length\n",
    "padded_sequences = pad_sequences(sequences, maxlen=max_sequence_length, padding='post')\n",
    "\n",
    "# Define your vocabulary size for embedding layer\n",
    "vocab_size = len(tokenizer.word_index) + 1"
   ]
  },
  {
   "cell_type": "code",
   "execution_count": 20,
   "id": "15edfbef-0c54-4d06-96ca-d39bcbb88782",
   "metadata": {},
   "outputs": [],
   "source": [
    "# Create input sequences and corresponding target words\n",
    "input_sequences = []\n",
    "target_words = []\n",
    "\n",
    "for seq in padded_sequences:\n",
    "    for i in range(1, len(seq)):\n",
    "        input_sequences.append(seq[:i])\n",
    "        target_words.append(seq[i])\n",
    "\n",
    "# Pad input sequences to uniform length\n",
    "input_sequences = pad_sequences(input_sequences, maxlen=max_sequence_length, padding='post')\n",
    "\n",
    "# Convert target words to numpy array\n",
    "target_words = np.array(target_words)\n"
   ]
  },
  {
   "cell_type": "markdown",
   "id": "0f0cfe08-fb3c-49c0-bb2f-21f1c3d72bd1",
   "metadata": {},
   "source": [
    "## **Splitting Data into Training and Validation Sets**<a id='Splitting_Data_into_Training_and_Validation_Sets'></a>\n",
    "[Contents](#Contents)\n",
    "\n",
    "In here, we'll be splitting the input_sequences and target_words into training and validation datasets. Using the train_test_split function:\n",
    "\n",
    "* **Training Set:** `80%` of the data (train_inputs, train_targets) will be used to train the model.\n",
    "* **Validation Set:** `20%` of the data (val_inputs, val_targets) will be reserved to validate the model’s performance during training.\n",
    "\n",
    "This step is crucial to evaluate how well the model generalizes to unseen data."
   ]
  },
  {
   "cell_type": "code",
   "execution_count": 21,
   "id": "55abee59-0e8a-4a8f-82d1-34d2a75bdc2d",
   "metadata": {},
   "outputs": [],
   "source": [
    "# Split input_sequences and target_words into training and validation sets\n",
    "train_inputs, val_inputs, train_targets, val_targets = train_test_split(\n",
    "    input_sequences, target_words, test_size=0.2, random_state=42)\n"
   ]
  },
  {
   "cell_type": "markdown",
   "id": "ecd85e3e-8908-422a-acbb-b3fe776ef50f",
   "metadata": {},
   "source": [
    "## **Data Generator for Efficient Batch Processing**<a id='Data_Generator_for_Efficient_Batch_Processing'></a>\n",
    "[Contents](#Contents)\n",
    "\n",
    "DataGenerator class was designed to generate batches of data for training and validation in an efficient manner, particularly useful when working with large datasets.\n",
    "\n",
    "* **Initialization** (`__init__`): It takes the input sequences, target words, batch size, and maximum sequence length as inputs and stores them for batch generation.\n",
    "* **Length** (`__len__`): This method calculates the total number of batches by dividing the total input data by the batch size.\n",
    "* **Get Item** (`__getitem__`): This method retrieves a specific batch of data (input sequences and target words) by slicing the dataset based on the batch size. It returns the data in NumPy array format, which is necessary for model training.\n",
    "\n",
    "The **train_gen** and **val_gen** objects are instances of this generator, created for the training and validation sets with a batch size of `64`, allowing the model to process data in small chunks rather than all at once. This approach helps to optimize memory usage and speed up training."
   ]
  },
  {
   "cell_type": "code",
   "execution_count": 22,
   "id": "ae8eb549-d31a-4a4f-812b-9c1c4e84b444",
   "metadata": {},
   "outputs": [],
   "source": [
    "class DataGenerator(Sequence):\n",
    "    def __init__(self, input_sequences, target_words, batch_size, max_len):\n",
    "        self.input_sequences = input_sequences\n",
    "        self.target_words = target_words\n",
    "        self.batch_size = batch_size\n",
    "        self.max_len = max_len\n",
    "\n",
    "    def __len__(self):\n",
    "        return int(np.floor(len(self.input_sequences) / self.batch_size))\n",
    "\n",
    "    def __getitem__(self, index):\n",
    "        batch_inputs = self.input_sequences[index * self.batch_size:(index + 1) * self.batch_size]\n",
    "        batch_targets = self.target_words[index * self.batch_size:(index + 1) * self.batch_size]\n",
    "        \n",
    "        return np.array(batch_inputs), np.array(batch_targets)\n"
   ]
  },
  {
   "cell_type": "code",
   "execution_count": 29,
   "id": "f59b0a86-c980-45f1-8a6f-c497179c8e60",
   "metadata": {},
   "outputs": [],
   "source": [
    "# Batch size\n",
    "batch_size = 64\n",
    "\n",
    "# Create data generators for training and validation\n",
    "train_gen = DataGenerator(train_inputs, train_targets, batch_size, max_sequence_length)\n",
    "val_gen = DataGenerator(val_inputs, val_targets, batch_size, max_sequence_length)\n"
   ]
  },
  {
   "cell_type": "markdown",
   "id": "b25c2dd8-27ab-476c-a7e5-e4d06db532dc",
   "metadata": {},
   "source": [
    "## **LSTM Architecture**<a id='LSTM_Architecture'></a>\n",
    "[Contents](#Contents)\n",
    "\n",
    "This section outlines a sequential model designed for text sequence prediction, optimized for handling tasks like conversational agents:\n",
    "\n",
    "* **Embedding Layer:** Transforms input words (represented as integers) into `100-dimensional dense vectors`, allowing the model to learn meaningful word embeddings. The input shape is determined by the vocabulary size and the maximum sequence length.\n",
    "\n",
    "* **Bidirectional LSTM Layer:** A bidirectional LSTM layer with `256 units` is used to capture context from both the forward and backward directions of the input sequence. The `return_sequences=True` parameter enables stacking of LSTM layers. A dropout rate of `30%` is applied to reduce overfitting.\n",
    "\n",
    "* **Second LSTM Layer:** This additional LSTM layer, with `128 units`, further processes the output from the first LSTM layer. Another `30% dropout` is applied for regularization.\n",
    "\n",
    "* **Dense Layer:** A fully connected layer with `64 units` and `ReLU activation` is included to learn complex features from the LSTM outputs before making predictions.\n",
    "\n",
    "* **Output Layer:** The output layer, using softmax activation, generates a probability distribution over the entire vocabulary, allowing the model to predict the next word in the sequence.\n",
    "\n",
    "* **Model Compilation:** The model is compiled with the Adam optimizer and sparse categorical crossentropy as the loss function, suitable for multi-class classification tasks like next-word prediction. Accuracy is used as the evaluation metric.\n",
    "\n",
    "* **Early Stopping:** To prevent overfitting, early stopping is applied, monitoring validation loss. If the validation loss doesn’t improve for `3 consecutive epochs`, training stops, and the best model weights are restored.\n",
    "\n",
    "* **Training the Model:** The model is trained on the data generator (`train_gen`) for `20 epochs` with early stopping, using a validation data generator (`val_gen`) to monitor its performance.\n",
    "\n",
    "This architecture is ideal for tasks requiring sequence prediction, such as building a conversational chatbot or other natural language processing applications."
   ]
  },
  {
   "cell_type": "code",
   "execution_count": 30,
   "id": "97080f51-6b97-45fe-ad60-e46a2458230b",
   "metadata": {},
   "outputs": [],
   "source": [
    "# Define the model architecture\n",
    "model = Sequential()\n",
    "\n",
    "# Embedding layer\n",
    "model.add(Embedding(input_dim=vocab_size, output_dim=100, input_length=max_sequence_length))\n",
    "\n",
    "# Bidirectional LSTM layer with 256 units, return_sequences=True for stacking\n",
    "model.add(Bidirectional(LSTM(256, return_sequences=True)))\n",
    "model.add(Dropout(0.3))  # Dropout for regularization\n",
    "\n",
    "# Second LSTM layer with 128 units\n",
    "model.add(LSTM(128))\n",
    "model.add(Dropout(0.3))  # Another dropout\n",
    "\n",
    "# Dense layer\n",
    "model.add(Dense(64, activation='relu'))\n",
    "\n",
    "# Output layer for next-word prediction (softmax to predict a probability distribution over the vocab)\n",
    "model.add(Dense(vocab_size, activation='softmax'))\n",
    "\n",
    "# Compile the model\n",
    "model.compile(optimizer='adam', loss='sparse_categorical_crossentropy', metrics=['accuracy'])\n"
   ]
  },
  {
   "cell_type": "markdown",
   "id": "88c1c5d2-c133-412a-90b0-80da80b66fa2",
   "metadata": {},
   "source": [
    "### **LSTM Training**<a id='LSTM_Training'></a>\n",
    "[Contents](#Contents)"
   ]
  },
  {
   "cell_type": "code",
   "execution_count": 31,
   "id": "6b1151cd-f6a8-4876-ab00-3f713e13bbe3",
   "metadata": {},
   "outputs": [
    {
     "name": "stdout",
     "output_type": "stream",
     "text": [
      "Epoch 1/20\n",
      "26243/26243 [==============================] - 9082s 346ms/step - loss: 3.0472 - accuracy: 0.6250 - val_loss: 2.7123 - val_accuracy: 0.6300\n",
      "Epoch 2/20\n",
      "26243/26243 [==============================] - 11276s 430ms/step - loss: 2.5683 - accuracy: 0.6376 - val_loss: 2.4921 - val_accuracy: 0.6454\n",
      "Epoch 3/20\n",
      "26243/26243 [==============================] - 10776s 411ms/step - loss: 2.3965 - accuracy: 0.6514 - val_loss: 2.3907 - val_accuracy: 0.6546\n",
      "Epoch 4/20\n",
      "26243/26243 [==============================] - 10517s 401ms/step - loss: 2.3116 - accuracy: 0.6591 - val_loss: 2.3482 - val_accuracy: 0.6599\n",
      "Epoch 5/20\n",
      "26243/26243 [==============================] - 11374s 433ms/step - loss: 2.2517 - accuracy: 0.6637 - val_loss: 2.3035 - val_accuracy: 0.6630\n",
      "Epoch 6/20\n",
      "26243/26243 [==============================] - 11985s 457ms/step - loss: 2.2168 - accuracy: 0.6672 - val_loss: 2.2982 - val_accuracy: 0.6659\n",
      "Epoch 7/20\n",
      "26243/26243 [==============================] - 12740s 485ms/step - loss: 2.1957 - accuracy: 0.6700 - val_loss: 2.2995 - val_accuracy: 0.6670\n",
      "Epoch 8/20\n",
      "26243/26243 [==============================] - 11291s 430ms/step - loss: 2.1761 - accuracy: 0.6719 - val_loss: 2.2964 - val_accuracy: 0.6687\n",
      "Epoch 9/20\n",
      "26243/26243 [==============================] - 12525s 477ms/step - loss: 2.1577 - accuracy: 0.6737 - val_loss: 2.2910 - val_accuracy: 0.6683\n",
      "Epoch 10/20\n",
      "26243/26243 [==============================] - 12786s 487ms/step - loss: 2.1309 - accuracy: 0.6747 - val_loss: 2.2768 - val_accuracy: 0.6693\n",
      "Epoch 11/20\n",
      "26243/26243 [==============================] - 12220s 466ms/step - loss: 2.1101 - accuracy: 0.6760 - val_loss: 2.2677 - val_accuracy: 0.6703\n",
      "Epoch 12/20\n",
      "26243/26243 [==============================] - 11499s 438ms/step - loss: 2.0987 - accuracy: 0.6769 - val_loss: 2.2852 - val_accuracy: 0.6705\n",
      "Epoch 13/20\n",
      "26243/26243 [==============================] - 12155s 463ms/step - loss: 2.0919 - accuracy: 0.6777 - val_loss: 2.2907 - val_accuracy: 0.6706\n",
      "Epoch 14/20\n",
      "26243/26243 [==============================] - 12617s 481ms/step - loss: 2.0870 - accuracy: 0.6783 - val_loss: 2.2867 - val_accuracy: 0.6713\n"
     ]
    }
   ],
   "source": [
    "# Early stopping to prevent overfitting\n",
    "early_stopping = EarlyStopping(monitor='val_loss', patience=3, restore_best_weights=True)\n",
    "\n",
    "# Train the model with early stopping\n",
    "history = model.fit(train_gen, epochs=20, validation_data=val_gen, callbacks=[early_stopping])\n"
   ]
  },
  {
   "cell_type": "markdown",
   "id": "0bc96f76-14f8-459e-a4bf-f9dcf4614b97",
   "metadata": {},
   "source": [
    "### **LSTM LOSS & Accuracy**<a id='LSTM_LOSS_Accuracy'></a>\n",
    "[Contents](#Contents)"
   ]
  },
  {
   "cell_type": "code",
   "execution_count": 32,
   "id": "00c8c0da-22fb-4758-aded-14f2c6ce0e60",
   "metadata": {},
   "outputs": [
    {
     "data": {
      "image/png": "[encoded data removed]",
      "text/plain": [
       "<Figure size 1200x400 with 2 Axes>"
      ]
     },
     "metadata": {},
     "output_type": "display_data"
    }
   ],
   "source": [
    "# Retrieve a list of accuracy and loss values from the training history\n",
    "acc = history.history['accuracy']\n",
    "val_acc = history.history['val_accuracy']\n",
    "loss = history.history['loss']\n",
    "val_loss = history.history['val_loss']\n",
    "\n",
    "# Plot training & validation accuracy values\n",
    "plt.figure(figsize=(12, 4))\n",
    "plt.subplot(1, 2, 1)\n",
    "plt.plot(acc, label='Training Accuracy')\n",
    "plt.plot(val_acc, label='Validation Accuracy')\n",
    "plt.title('Model Accuracy')\n",
    "plt.xlabel('Epochs')\n",
    "plt.ylabel('Accuracy')\n",
    "plt.legend()\n",
    "\n",
    "# Plot training & validation loss values\n",
    "plt.subplot(1, 2, 2)\n",
    "plt.plot(loss, label='Training Loss')\n",
    "plt.plot(val_loss, label='Validation Loss')\n",
    "plt.title('Model Loss')\n",
    "plt.xlabel('Epochs')\n",
    "plt.ylabel('Loss')\n",
    "plt.legend()\n",
    "\n",
    "plt.show()\n"
   ]
  },
  {
   "cell_type": "markdown",
   "id": "e08fbcb0-3cd5-42ba-9ae4-3692fd53771b",
   "metadata": {},
   "source": [
    "**Summary Highlights:**\n",
    "\n",
    "* **Training Accuracy:**\n",
    "\n",
    "   * The training accuracy started at 62.50% in the first epoch and steadily increased to 67.83% by epoch 14.\n",
    "   * This demonstrates that the model was learning well from the data and consistently improving its predictions.\n",
    "\n",
    "* **Validation Accuracy:**\n",
    "\n",
    "   * The validation accuracy started at 63.00% and increased to 67.13% by epoch 14.\n",
    "   * The gap between training accuracy and validation accuracy remained small, indicating that the model generalized well to unseen data and did not overfit.\n",
    "\n",
    "* **Training Loss:**\n",
    "\n",
    "   * The training loss started at 3.0472 and gradually decreased to 2.0870 by epoch 14.\n",
    "   * This decrease in training loss indicates that the model's predictions became increasingly aligned with the true values during training.\n",
    "\n",
    "* **Validation Loss:**\n",
    "\n",
    "   * The validation loss started at 2.7123 and decreased to 2.2867 by epoch 14.\n",
    "   * A consistent decrease in validation loss suggests that the model was improving in its ability to generalize to the validation set, although the rate of improvement slowed down after a few epochs.\n",
    "\n",
    "* **Early Stopping:**\n",
    "\n",
    "   * Early stopping was employed with patience=3, which means training would stop if the validation loss didn’t improve after 3 consecutive epochs. This helps avoid overfitting.\n",
    "   * The model was allowed to train for 20 epochs, but training was effectively stopped by epoch 14 as the validation loss began to stabilize and no longer showed significant improvements.\n",
    "\n",
    "* **Convergence:**\n",
    "\n",
    "   * Both the training and validation accuracy continued to rise, while training and validation losses dropped and then began to stabilize.\n",
    "   * The convergence point around epoch 14 suggests that the model reached an optimal balance between fitting the training data and generalizing to unseen data.\n",
    "\n",
    "* **Conclusion:**\n",
    "   * The model performed well, achieving 67.83% training accuracy and 67.13% validation accuracy by epoch 14.\n",
    "   * The small gap between training and validation metrics indicates strong generalization capabilities.\n",
    "   * The early stopping mechanism worked effectively, stopping training before overfitting could occur.\n",
    "   * Total time required to train for 14 epochs is `46 hours, 20 minutes, and 43 seconds`."
   ]
  },
  {
   "cell_type": "markdown",
   "id": "87212c7f-5865-46f8-adc7-7ec0efb3ac82",
   "metadata": {},
   "source": [
    "## **Saving The Final LSTM Model**<a id='Saving_The_Final_LSTM_Model'></a>\n",
    "[Contents](#Contents)"
   ]
  },
  {
   "cell_type": "code",
   "execution_count": 33,
   "id": "40bf1bc6-87ff-40d5-9e9a-e3719f6cca63",
   "metadata": {},
   "outputs": [
    {
     "name": "stderr",
     "output_type": "stream",
     "text": [
      "C:\\Users\\aktha\\anaconda3\\envs\\tf_env\\lib\\site-packages\\keras\\src\\engine\\training.py:3000: UserWarning: You are saving your model as an HDF5 file via `model.save()`. This file format is considered legacy. We recommend using instead the native Keras format, e.g. `model.save('my_model.keras')`.\n",
      "  saving_api.save_model(\n"
     ]
    }
   ],
   "source": [
    "# Save the entire model to a HDF5 file\n",
    "model.save('chatbot_model.h5')\n"
   ]
  },
  {
   "cell_type": "code",
   "execution_count": 34,
   "id": "f6aa2e5a-585c-4edd-a9a5-ee62c9443877",
   "metadata": {},
   "outputs": [],
   "source": [
    "# Save the model in the native Keras format\n",
    "model.save('chatbot_model.keras')"
   ]
  },
  {
   "cell_type": "code",
   "execution_count": 35,
   "id": "0cdd1c7b-3510-485a-84e6-ac976e2af96f",
   "metadata": {},
   "outputs": [
    {
     "data": {
      "text/plain": [
       "['tokenizer.pkl']"
      ]
     },
     "execution_count": 35,
     "metadata": {},
     "output_type": "execute_result"
    }
   ],
   "source": [
    "import joblib\n",
    "# Saving the tokenizer (if not done previously)\n",
    "joblib.dump(tokenizer, 'tokenizer.pkl')\n"
   ]
  },
  {
   "cell_type": "code",
   "execution_count": 57,
   "id": "cf35af25-75a1-4b47-8c2d-9854bb8ccbf8",
   "metadata": {},
   "outputs": [],
   "source": [
    "import numpy as np\n",
    "from tensorflow.keras.preprocessing.sequence import pad_sequences\n",
    "\n",
    "def generate_response(input_text, model, tokenizer, max_sequence_length):\n",
    "    input_sequence = tokenizer.texts_to_sequences([input_text])\n",
    "    input_sequence = pad_sequences(input_sequence, maxlen=max_sequence_length, padding='post')\n",
    "    \n",
    "    # Print input sequence for debugging\n",
    "    print(f\"Input sequence: {input_sequence}\")\n",
    "\n",
    "    # Predict the next word\n",
    "    prediction = model.predict(input_sequence)\n",
    "    \n",
    "    # Find the index with the highest probability\n",
    "    predicted_index = np.argmax(prediction, axis=1)[0]\n",
    "    \n",
    "    # Print the predicted index for debugging\n",
    "    print(f\"Predicted index: {predicted_index}\")\n",
    "    \n",
    "    # Convert the predicted index back to a word\n",
    "    predicted_word = tokenizer.index_word.get(predicted_index, '<unknown>')\n",
    "    \n",
    "    return predicted_word\n",
    "\n",
    "\n"
   ]
  },
  {
   "cell_type": "code",
   "execution_count": 58,
   "id": "7f76143a-c2d0-4ea0-9e3f-68cd0cd5a5cc",
   "metadata": {},
   "outputs": [
    {
     "name": "stdout",
     "output_type": "stream",
     "text": [
      "Vocabulary size during training: 30110\n"
     ]
    }
   ],
   "source": [
    "# Check vocabulary size during training\n",
    "print(f\"Vocabulary size during training: {len(tokenizer.word_index)}\")\n"
   ]
  },
  {
   "cell_type": "code",
   "execution_count": null,
   "id": "8421a49d-8a2f-489b-a561-ba789fe2a468",
   "metadata": {},
   "outputs": [],
   "source": []
  },
  {
   "cell_type": "code",
   "execution_count": 59,
   "id": "d112a731-1b9a-456d-8754-6a1074d68efd",
   "metadata": {},
   "outputs": [],
   "source": [
    "def chat_with_bot_predefined(model, tokenizer, max_sequence_length, predefined_inputs):\n",
    "    print(\"Bot: Hello! How can I help you today?\")\n",
    "    \n",
    "    conversation_history = []\n",
    "    \n",
    "    for user_input in predefined_inputs:\n",
    "        # Add user's input to the conversation history\n",
    "        conversation_history.append(user_input)\n",
    "        \n",
    "        # Prepare conversation history as input for the model\n",
    "        conversation_text = ' '.join(conversation_history)\n",
    "        \n",
    "        # Generate bot response\n",
    "        bot_response = generate_response(conversation_text, model, tokenizer, max_sequence_length)\n",
    "        \n",
    "        # Add bot's response to conversation history\n",
    "        conversation_history.append(bot_response)\n",
    "        \n",
    "        # Display the bot's response\n",
    "        print(f\"You: {user_input}\")\n",
    "        print(f\"Bot: {bot_response}\")"
   ]
  },
  {
   "cell_type": "code",
   "execution_count": 60,
   "id": "2e293bfb-050f-47ca-841b-68c2164782ba",
   "metadata": {},
   "outputs": [
    {
     "name": "stdout",
     "output_type": "stream",
     "text": [
      "Bot: Hello! How can I help you today?\n",
      "Input sequence: [[302   0   0   0   0   0   0   0   0   0   0   0   0   0   0   0   0   0\n",
      "    0   0   0   0   0   0]]\n",
      "1/1 [==============================] - 0s 31ms/step\n",
      "Predicted index: 0\n",
      "You: Hello\n",
      "Bot: <unknown>\n",
      "Input sequence: [[ 302 2715   14   11    3 1507   38  308    0    0    0    0    0    0\n",
      "     0    0    0    0    0    0    0    0    0    0]]\n",
      "1/1 [==============================] - 0s 28ms/step\n",
      "Predicted index: 0\n",
      "You: What is the weather like today?\n",
      "Bot: <unknown>\n",
      "Input sequence: [[ 302 2715   14   11    3 1507   38  308 2715   64    6 1866  296    0\n",
      "     0    0    0    0    0    0    0    0    0    0]]\n",
      "1/1 [==============================] - 0s 26ms/step\n",
      "Predicted index: 0\n",
      "You: Will it rain tomorrow?\n",
      "Bot: <unknown>\n",
      "Input sequence: [[ 302 2715   14   11    3 1507   38  308 2715   64    6 1866  296 2715\n",
      "   206    1    0    0    0    0    0    0    0    0]]\n",
      "1/1 [==============================] - 0s 24ms/step\n",
      "Predicted index: 2\n",
      "You: Thank you!\n",
      "Bot: i\n"
     ]
    }
   ],
   "source": [
    "# List of predefined inputs for testing:\n",
    "predefined_inputs = [\n",
    "    \"Hello\",\n",
    "    \"What is the weather like today?\",\n",
    "    \"Will it rain tomorrow?\",\n",
    "    \"Thank you!\"\n",
    "]\n",
    "\n",
    "# Start chatting with predefined inputs\n",
    "chat_with_bot_predefined(model, tokenizer, max_sequence_length, predefined_inputs)\n"
   ]
  },
  {
   "cell_type": "code",
   "execution_count": 61,
   "id": "8de3f7e0-910d-469c-9e96-873d3f5e91c9",
   "metadata": {},
   "outputs": [],
   "source": [
    "def generate_top_n_predictions(input_text, model, tokenizer, max_sequence_length, top_n=5):\n",
    "    # Tokenize and pad the input\n",
    "    input_sequence = tokenizer.texts_to_sequences([input_text])\n",
    "    input_sequence = pad_sequences(input_sequence, maxlen=max_sequence_length, padding='post')\n",
    "    \n",
    "    # Predict the probabilities of the next word\n",
    "    predictions = model.predict(input_sequence)\n",
    "    \n",
    "    # Get the indices of the top N predictions\n",
    "    top_n_indices = np.argsort(predictions[0])[-top_n:][::-1]\n",
    "    \n",
    "    # Convert indices back to words\n",
    "    top_n_words = [tokenizer.index_word.get(i, '<unknown>') for i in top_n_indices]\n",
    "    \n",
    "    # Get the probabilities of the top N predictions\n",
    "    top_n_probs = [predictions[0][i] for i in top_n_indices]\n",
    "    \n",
    "    return list(zip(top_n_words, top_n_probs))"
   ]
  },
  {
   "cell_type": "code",
   "execution_count": 67,
   "id": "a914fa18-ea0d-4e0a-8ebf-6c1837beafb4",
   "metadata": {},
   "outputs": [
    {
     "name": "stdout",
     "output_type": "stream",
     "text": [
      "1/1 [==============================] - 0s 35ms/step\n",
      "Word: i, Probability: 0.06978916376829147\n",
      "Word: s, Probability: 0.051840752363204956\n",
      "Word: you, Probability: 0.036405157297849655\n",
      "Word: the, Probability: 0.020859280601143837\n",
      "Word: do, Probability: 0.018383480608463287\n"
     ]
    }
   ],
   "source": [
    "input_text = \"weather\"\n",
    "top_predictions = generate_top_n_predictions(input_text, model, tokenizer, max_sequence_length, top_n=5)\n",
    "\n",
    "for word, prob in top_predictions:\n",
    "    print(f\"Word: {word}, Probability: {prob}\")"
   ]
  },
  {
   "cell_type": "code",
   "execution_count": null,
   "id": "eb55ff92-ca02-41b5-b56f-a3b906bdd4ac",
   "metadata": {},
   "outputs": [],
   "source": []
  }
 ],
 "metadata": {
  "kernelspec": {
   "display_name": "Python 3 (ipykernel)",
   "language": "python",
   "name": "python3"
  },
  "language_info": {
   "codemirror_mode": {
    "name": "ipython",
    "version": 3
   },
   "file_extension": ".py",
   "mimetype": "text/x-python",
   "name": "python",
   "nbconvert_exporter": "python",
   "pygments_lexer": "ipython3",
   "version": "3.8.19"
  }
 },
 "nbformat": 4,
 "nbformat_minor": 5
}
